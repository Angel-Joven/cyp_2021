{
  "nbformat": 4,
  "nbformat_minor": 0,
  "metadata": {
    "colab": {
      "name": "07_Enero_2021_CyP.ipynb",
      "provenance": [],
      "authorship_tag": "ABX9TyPv1aOzIJHTUx8thLgFst81",
      "include_colab_link": true
    },
    "kernelspec": {
      "name": "python3",
      "display_name": "Python 3"
    }
  },
  "cells": [
    {
      "cell_type": "markdown",
      "metadata": {
        "id": "view-in-github",
        "colab_type": "text"
      },
      "source": [
        "<a href=\"https://colab.research.google.com/github/Angel-Joven/cyp_2021/blob/main/07_Enero_2021_CyP.ipynb\" target=\"_parent\"><img src=\"https://colab.research.google.com/assets/colab-badge.svg\" alt=\"Open In Colab\"/></a>"
      ]
    },
    {
      "cell_type": "code",
      "metadata": {
        "colab": {
          "base_uri": "https://localhost:8080/"
        },
        "id": "SvhNhQ974TiE",
        "outputId": "5134c49d-2bbd-49f7-f88a-2be2c6e03635"
      },
      "source": [
        "REN = 3\r\n",
        "COL = 5\r\n",
        "VEC = [[0 for x in range(COL)] for x in range(REN)]\r\n",
        "print(VEC)\r\n",
        "\r\n",
        "VEC[1][2] = 15\r\n",
        "print(VEC)\r\n",
        "\r\n",
        "print(\"Automatizar el recorrido del arreglo\")\r\n",
        "for i in range(REN):\r\n",
        "  for j in range(COL):\r\n",
        "    print(f\"{i}, {j} = {VEC[i][j]}\")\r\n",
        "\r\n"
      ],
      "execution_count": 6,
      "outputs": [
        {
          "output_type": "stream",
          "text": [
            "[[0, 0, 0, 0, 0], [0, 0, 0, 0, 0], [0, 0, 0, 0, 0]]\n",
            "[[0, 0, 0, 0, 0], [0, 0, 15, 0, 0], [0, 0, 0, 0, 0]]\n",
            "Automatizar el recorrido del arreglo\n",
            "0, 0 = 0\n",
            "0, 1 = 0\n",
            "0, 2 = 0\n",
            "0, 3 = 0\n",
            "0, 4 = 0\n",
            "1, 0 = 0\n",
            "1, 1 = 0\n",
            "1, 2 = 15\n",
            "1, 3 = 0\n",
            "1, 4 = 0\n",
            "2, 0 = 0\n",
            "2, 1 = 0\n",
            "2, 2 = 0\n",
            "2, 3 = 0\n",
            "2, 4 = 0\n"
          ],
          "name": "stdout"
        }
      ]
    },
    {
      "cell_type": "code",
      "metadata": {
        "id": "_W2Y5_BAFGxq"
      },
      "source": [
        "MESES = 12\r\n",
        "ESTADOS = int (input(\"Ingrese el numero de estados: \"))\r\n",
        "LLUVIAS = [ [0 for x in range(MESES)] for x in range(ESTADOS)]\r\n",
        "print(LLUVIAS)\r\n",
        "\r\n",
        "LLUVIAS[0][0] = 50\r\n",
        "print(LLUVIAS)\r\n",
        "\r\n",
        "for i in range(ESTADOS):\r\n",
        "  for j in range(MESES):\r\n",
        "    MENSAJE = \"Dame el valor del estado \" + str(i+1) + \" del mes \" + str(j+1) + \":\" \r\n",
        "    AUX = int(input(MENSAJE))\r\n",
        "    LLUVIAS[i][j] = AUX\r\n",
        "\r\n",
        "print(LLUVIAS)\r\n",
        "\r\n",
        "print(\"Promedio de lluvias en los estados: \")\r\n",
        "SUMA = 0\r\n",
        "for i in range(ESTADOS):\r\n",
        "  SUMA = 0\r\n",
        "  for j in range(MESES):\r\n",
        "    SUMA = SUMA + LLUVIAS[i][j]\r\n",
        "  print(f\"El promedio de lluvias en el estado {i+1} es: {SUMA/12}\")\r\n"
      ],
      "execution_count": null,
      "outputs": []
    }
  ]
}