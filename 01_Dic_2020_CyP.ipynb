{
  "nbformat": 4,
  "nbformat_minor": 0,
  "metadata": {
    "colab": {
      "name": "01_Dic_2020_CyP.ipynb",
      "provenance": [],
      "authorship_tag": "ABX9TyO3Wz2YM1D9edaxpkEW9YS+",
      "include_colab_link": true
    },
    "kernelspec": {
      "name": "python3",
      "display_name": "Python 3"
    }
  },
  "cells": [
    {
      "cell_type": "markdown",
      "metadata": {
        "id": "view-in-github",
        "colab_type": "text"
      },
      "source": [
        "<a href=\"https://colab.research.google.com/github/Angel-Joven/cyp_2021/blob/main/01_Dic_2020_CyP.ipynb\" target=\"_parent\"><img src=\"https://colab.research.google.com/assets/colab-badge.svg\" alt=\"Open In Colab\"/></a>"
      ]
    },
    {
      "cell_type": "code",
      "metadata": {
        "colab": {
          "base_uri": "https://localhost:8080/"
        },
        "id": "XXIHgNy-TJR3",
        "outputId": "57d5da36-f7ad-451b-ee2b-c453df6c3f4a"
      },
      "source": [
        "#Ejemplo 1\n",
        "#Pedir 3 numeros enteros y mostrar el mayor de los tres\n",
        "\n",
        "numero1= int(input(\"Introduce el primer numero: \"))\n",
        "numero2= int(input(\"Introduce el segundo numero: \"))\n",
        "numero3= int(input(\"Introduce el tercer numero: \"))\n",
        "\n",
        "if numero1 >= numero2 and numero1 >= numero3:\n",
        "  print(numero1, \"Es el mayor\")\n",
        "\n",
        "elif numero2 >= numero1 and numero2 >= numero3:\n",
        "  print(numero2, \"Es el mayor\")\n"
      ],
      "execution_count": 4,
      "outputs": [
        {
          "output_type": "stream",
          "text": [
            "Introduce el primer numero: 9\n",
            "Introduce el segundo numero: 3\n",
            "Introduce el tercer numero: 4\n",
            "9 Es el mayor\n"
          ],
          "name": "stdout"
        }
      ]
    },
    {
      "cell_type": "code",
      "metadata": {
        "colab": {
          "base_uri": "https://localhost:8080/"
        },
        "id": "qXJMmV45VYrW",
        "outputId": "4f44c355-02d6-4362-a81e-b40969686fd3"
      },
      "source": [
        "#Ejemplo 2\n",
        "\n",
        "print(\"Ingrese el nombre del trabajador: \")\n",
        "nombre = input()\n",
        "print(\"Cuantas horas trabajo esta semana\", nombre, \":\")\n",
        "\n",
        "horas = input()\n",
        "horas = int(horas)\n",
        "print(\"¿Cuanto se paga por hora?: \")\n",
        "sueldoH = input()\n",
        "sueldoH = float(sueldoH)\n",
        "\n",
        "#Evaluar el sueldo\n",
        "\n",
        "if(horas <= 40):\n",
        "  pago = horas * sueldoH\n",
        "  print(\"El sueldo final de\", nombre, \"es $\", pago)\n",
        "\n",
        "else:\n",
        "  extras = horas - 40\n",
        "  pago = 40 * sueldoH\n",
        "  pagoFinal = pago + ((extras * sueldoH) * 2)\n",
        "  print(\"El sueldo final de\", nombre, \"es $\", pagoFinal)\n"
      ],
      "execution_count": 12,
      "outputs": [
        {
          "output_type": "stream",
          "text": [
            "Ingrese el nombre del trabajador: \n",
            "Mario\n",
            "Cuantas horas trabajo esta semana Mario :\n",
            "50\n",
            "¿Cuanto se paga por hora?: \n",
            "20\n",
            "El sueldo final de Mario es $ 1200.0\n"
          ],
          "name": "stdout"
        }
      ]
    },
    {
      "cell_type": "code",
      "metadata": {
        "colab": {
          "base_uri": "https://localhost:8080/"
        },
        "id": "7jVjJaSCZDPz",
        "outputId": "b012d641-a896-434a-fda4-1f5e7a4fbce6"
      },
      "source": [
        "#Ejemplo 3\n",
        "#Calcular el salario semanal de x trabajador\n",
        "#El salario semanal se calcula en base a las horas semanales trabajadas\n",
        "#El pago por hora es variable (se pide por teclado)\n",
        "#Si las horas trabajadas superan las 40 horas, el pago por hora extra es:\n",
        "#Doble en el rango de 41horas a 50horas\n",
        "#Triple en el rango de 51horas a 60 horas\n",
        "#Incentivo de $2000 si rebasa las 60 horas.\n",
        "\n",
        "print(\"Ingrese el nombre del trabajador: \")\n",
        "nombre = input()\n",
        "print(\"Cuantas horas trabajo esta semana\", nombre, \":\")\n",
        "\n",
        "horas = input()\n",
        "horas = int(horas)\n",
        "print(\"¿Cuanto se paga por hora?: \")\n",
        "sueldoH = input()\n",
        "sueldoH = float(sueldoH)\n",
        "\n",
        "#Evaluar el sueldo\n",
        "\n",
        "if(horas <= 40):\n",
        "  pago = horas * sueldoH\n",
        "  print(\"El sueldo final de: \", nombre, \"es $\", pago)\n",
        "\n",
        "elif(horas > 40 and horas <= 50):\n",
        "  extrasDobles = horas - 40\n",
        "  print(\"Horas extra dobles: \", extrasDobles)\n",
        "  pago = 40 * sueldoH\n",
        "  print(\"Sueldo base:$\", pago)\n",
        "  pagoDoble = extrasDobles * sueldoH * 2\n",
        "  print(\"Pago de horas dobles:$\", pagoDoble)\n",
        "  pagoFinal = pago + pagoDoble\n",
        "  print(\"El sueldo final de: \", nombre, \"es $\", pagoFinal)\n",
        "\n",
        "elif (horas > 50 and horas <= 60):\n",
        "  extrasTriples = horas - 50\n",
        "  print(\"Horas extras dobles:10\")\n",
        "  print(\"Horas extras triples: \", extrasTriples)\n",
        "  pago = 40 * sueldoH\n",
        "  print(\"Sueldo base:$\", pago)\n",
        "  pagoDoble = 10 * sueldoH * 2\n",
        "  print(\"Pago de horas extras dobles:\", pagoDoble)\n",
        "  pagoTriple = extrasTriples * sueldoH * 3\n",
        "  print(\"Pago de horas extra triples:\", pagoTriple)\n",
        "  pagoFinal = pago + pagoDoble + pagoTriple\n",
        "  print(\"El sueldo final de: \", nombre, \"es $\", pagoFinal)\n",
        "\n",
        "else:\n",
        "  extrasTriples = 10\n",
        "  print(\"Horas extra dobles 10\")\n",
        "  print(\"Horas extra triples 10\")\n",
        "  pago = 40 * sueldoH\n",
        "  print(\"Sueldo base:$\", pago)\n",
        "  pagoDoble = 10 * sueldoH * 2\n",
        "  print(\"Pago de horas extra dobles:\", pagoDoble)\n",
        "  pagoTriple = extrasTriples * sueldoH * 3\n",
        "  print(\"Pago de horas extra triples:\", pagoTriple)\n",
        "  print(\"Incentivo por trabajar mas de 60 horas:$$2000\")\n",
        "  pagoFinal = pago + pagoDoble + pagoTriple + 2000\n",
        "  print(\"El sueldo final de: \", nombre, \"es $\", pagoFinal)\n"
      ],
      "execution_count": 24,
      "outputs": [
        {
          "output_type": "stream",
          "text": [
            "Ingrese el nombre del trabajador: \n",
            "Zet\n",
            "Cuantas horas trabajo esta semana Zet :\n",
            "45\n",
            "¿Cuanto se paga por hora?: \n",
            "200\n",
            "Horas extra dobles:  5\n",
            "Sueldo base:$ 8000.0\n",
            "Pago de horas dobles:$ 2000.0\n",
            "El sueldo final de:  Zet es $ 10000.0\n"
          ],
          "name": "stdout"
        }
      ]
    },
    {
      "cell_type": "code",
      "metadata": {
        "colab": {
          "base_uri": "https://localhost:8080/"
        },
        "id": "Aeq3Gp84n_M3",
        "outputId": "010ecc74-595e-42a7-d5d7-eb1f1a6375b3"
      },
      "source": [
        "#Estructura FOR\n",
        "#Ejemplo 1\n",
        "\n",
        "for estaciones_año in [\"primavera\", \"verano\", \"otoño\", \"invierno\", \"Venus\"]: #in palabra reservada, elemento a recorrer\n",
        "  print(estaciones_año)\n",
        "\n",
        "#Variables que suelen formar parte de FOR son \"i\"\n",
        "\n",
        "for estaciones_año in [\"primavera\", \"verano\", \"otoño\", \"invierno\", \"Venus\"]: #in palabra reservada, elemento a recorrer\n",
        "  print(\"Hola\")\n"
      ],
      "execution_count": 28,
      "outputs": [
        {
          "output_type": "stream",
          "text": [
            "primavera\n",
            "verano\n",
            "otoño\n",
            "invierno\n",
            "Venus\n",
            "Hola\n",
            "Hola\n",
            "Hola\n",
            "Hola\n",
            "Hola\n"
          ],
          "name": "stdout"
        }
      ]
    }
  ]
}