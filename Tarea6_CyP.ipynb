{
  "nbformat": 4,
  "nbformat_minor": 0,
  "metadata": {
    "colab": {
      "name": "Tarea6_CyP.ipynb",
      "provenance": [],
      "collapsed_sections": [],
      "authorship_tag": "ABX9TyMJ3UftPXZcdRj8aE5GFn8w",
      "include_colab_link": true
    },
    "kernelspec": {
      "name": "python3",
      "display_name": "Python 3"
    }
  },
  "cells": [
    {
      "cell_type": "markdown",
      "metadata": {
        "id": "view-in-github",
        "colab_type": "text"
      },
      "source": [
        "<a href=\"https://colab.research.google.com/github/Angel-Joven/cyp_2021/blob/main/Tarea6_CyP.ipynb\" target=\"_parent\"><img src=\"https://colab.research.google.com/assets/colab-badge.svg\" alt=\"Open In Colab\"/></a>"
      ]
    },
    {
      "cell_type": "code",
      "metadata": {
        "colab": {
          "base_uri": "https://localhost:8080/"
        },
        "id": "w9Gv-MjiOGDi",
        "outputId": "1ec67591-3f28-45b0-9d20-38411472579e"
      },
      "source": [
        "#Problema 3.3\r\n",
        "\r\n",
        "N = int(input(\"Dame un numero: \"))\r\n",
        "BAND = True\r\n",
        "I = 1\r\n",
        "SERIE = 0\r\n",
        "\r\n",
        "while I <= N:\r\n",
        "  if BAND == True:\r\n",
        "    SERIE =  SERIE + (1/I)\r\n",
        "    BAND = False\r\n",
        "    I = I + 1\r\n",
        "  \r\n",
        "  else:\r\n",
        "    SERIE = SERIE - (1/I)\r\n",
        "    BAND = True\r\n",
        "    I = I + 1\r\n",
        "\r\n",
        "print(f\"El resultado de la serie del numero {N} es: {SERIE}\")\r\n"
      ],
      "execution_count": null,
      "outputs": [
        {
          "output_type": "stream",
          "text": [
            "Dame un numero: 9\n",
            "El resultado de la serie del numero 9 es: 0.7456349206349207\n"
          ],
          "name": "stdout"
        }
      ]
    },
    {
      "cell_type": "code",
      "metadata": {
        "colab": {
          "base_uri": "https://localhost:8080/"
        },
        "id": "6iH7SQ9PTIKH",
        "outputId": "fc5ca60e-06a8-484d-91fe-02e2e805fb4b"
      },
      "source": [
        "#Problema 3.4\r\n",
        "\r\n",
        "print(\"CUANDO HAYA TERMINADO DE INGRESAR LOS SUELDOS, POR FAVOR INGRESE '-1'\")\r\n",
        "\r\n",
        "NOMINA = 0\r\n",
        "SUELDO = float(input(\"Ingrese el primer sueldo: $ \"))\r\n",
        "NUEVO_SUELDO = 0\r\n",
        "\r\n",
        "while SUELDO > -1:\r\n",
        "  if SUELDO < 1000:\r\n",
        "    NUEVO_SUELDO = SUELDO * 1.15\r\n",
        "  else:\r\n",
        "    NUEVO_SUELDO = SUELDO * 1.12\r\n",
        "  NOMINA = NOMINA + NUEVO_SUELDO\r\n",
        "  print(f\"El nuevo sueldo es: ${NUEVO_SUELDO}\")\r\n",
        "  SUELDO = float(input(\"Ingrese otro sueldo: $ \"))\r\n",
        "\r\n",
        "print(f\"La nomina de la empresa es: ${NOMINA}\")\r\n"
      ],
      "execution_count": null,
      "outputs": [
        {
          "output_type": "stream",
          "text": [
            "CUANDO HAYA TERMINADO DE INGRESAR LOS SUELDOS, POR FAVOR INGRESE '-1'\n",
            "Ingrese el primer sueldo: $ 855\n",
            "El nuevo sueldo es: $983.2499999999999\n",
            "Ingrese otro sueldo: $ 760.32\n",
            "El nuevo sueldo es: $874.3679999999999\n",
            "Ingrese otro sueldo: $ 1100.20\n",
            "El nuevo sueldo es: $1232.2240000000002\n",
            "Ingrese otro sueldo: $ 614\n",
            "El nuevo sueldo es: $706.0999999999999\n",
            "Ingrese otro sueldo: $ 2600\n",
            "El nuevo sueldo es: $2912.0000000000005\n",
            "Ingrese otro sueldo: $ 817.50\n",
            "El nuevo sueldo es: $940.1249999999999\n",
            "Ingrese otro sueldo: $ 1280.30\n",
            "El nuevo sueldo es: $1433.9360000000001\n",
            "Ingrese otro sueldo: $ 687\n",
            "El nuevo sueldo es: $790.05\n",
            "Ingrese otro sueldo: $ -1\n",
            "La nomina de la empresa es: $9872.053\n"
          ],
          "name": "stdout"
        }
      ]
    },
    {
      "cell_type": "code",
      "metadata": {
        "colab": {
          "base_uri": "https://localhost:8080/"
        },
        "id": "qE-WxUexxRRC",
        "outputId": "d0a0ee30-9a2b-418b-921e-9c84f0b49352"
      },
      "source": [
        "#Problema 3.5\r\n",
        "\r\n",
        "SUMOTR = 0\r\n",
        "SUMPOS = 0\r\n",
        "CUEPOS = 0\r\n",
        "\r\n",
        "N = int(input(\"Ingrese la cantidad de numeros que necesita: \"))\r\n",
        "\r\n",
        "I = 1\r\n",
        "\r\n",
        "while I <= N:\r\n",
        "  NUM = int(input(\"Ingrese un numero: \"))\r\n",
        "  if NUM > 0:\r\n",
        "    SUMPOS = SUMPOS + NUM\r\n",
        "    CUEPOS = CUEPOS + 1\r\n",
        "  else:\r\n",
        "    SUMOTR = SUMOTR + NUM\r\n",
        "  I = I + 1\r\n",
        "\r\n",
        "PROGEN = (SUMPOS + SUMOTR) / N\r\n",
        "PROPOS = SUMPOS / CUEPOS\r\n",
        "\r\n",
        "print(f\"Se conto {CUEPOS} numeros positivos, \\nasi que el promedio de los numeros positivos es de {PROPOS} \\ny el promedio general de los numeros es de {PROGEN}\")\r\n"
      ],
      "execution_count": null,
      "outputs": [
        {
          "output_type": "stream",
          "text": [
            "Ingrese la cantidad de numeros que necesita: 20\n",
            "Ingrese un numero: 7\n",
            "Ingrese un numero: 12\n",
            "Ingrese un numero: 0\n",
            "Ingrese un numero: 6\n",
            "Ingrese un numero: 11\n",
            "Ingrese un numero: -3\n",
            "Ingrese un numero: 17\n",
            "Ingrese un numero: 12\n",
            "Ingrese un numero: 19\n",
            "Ingrese un numero: 0\n",
            "Ingrese un numero: 11\n",
            "Ingrese un numero: 4\n",
            "Ingrese un numero: -5\n",
            "Ingrese un numero: -1\n",
            "Ingrese un numero: 0\n",
            "Ingrese un numero: 3\n",
            "Ingrese un numero: 24\n",
            "Ingrese un numero: 0\n",
            "Ingrese un numero: 3\n",
            "Ingrese un numero: -16\n",
            "Se conto 12 numeros positivos, \n",
            "asi que el promedio de los numeros positivos es de 10.75 \n",
            "y el promedio general de los numeros es de 5.2\n"
          ],
          "name": "stdout"
        }
      ]
    },
    {
      "cell_type": "code",
      "metadata": {
        "colab": {
          "base_uri": "https://localhost:8080/"
        },
        "id": "N5tExB910TYC",
        "outputId": "b838d062-e179-4799-a945-6ff2c116ac6e"
      },
      "source": [
        "#Problema 3.6\r\n",
        "\r\n",
        "MAYOR = -100000\r\n",
        "MENOR = 100000\r\n",
        "\r\n",
        "N = int(input(\"Ingrese la cantidad de numeros que necesita: \"))\r\n",
        "\r\n",
        "I = 1\r\n",
        "\r\n",
        "while I <= N:\r\n",
        "  NUM = int(input(\"Ingrese un numero: \"))\r\n",
        "  if NUM > MAYOR:\r\n",
        "    MAYOR = NUM\r\n",
        "  if NUM < MENOR:\r\n",
        "    MENOR = NUM\r\n",
        "\r\n",
        "  I = I + 1\r\n",
        "\r\n",
        "print(f\"El numero {MAYOR} es el mayor, asi como el numero {MENOR} es el menor\")\r\n"
      ],
      "execution_count": null,
      "outputs": [
        {
          "output_type": "stream",
          "text": [
            "Ingrese la cantidad de numeros que necesita: 12\n",
            "Ingrese un numero: 170\n",
            "Ingrese un numero: 44\n",
            "Ingrese un numero: 815\n",
            "Ingrese un numero: 1700\n",
            "Ingrese un numero: 38\n",
            "Ingrese un numero: 140\n",
            "Ingrese un numero: 380\n",
            "Ingrese un numero: 1020\n",
            "Ingrese un numero: 116\n",
            "Ingrese un numero: 14\n",
            "Ingrese un numero: 730\n",
            "Ingrese un numero: 960\n",
            "El numero 1700 es el mayor, asi como el numero 14 es el menor\n"
          ],
          "name": "stdout"
        }
      ]
    },
    {
      "cell_type": "code",
      "metadata": {
        "colab": {
          "base_uri": "https://localhost:8080/"
        },
        "id": "dO7yI5Oh5YRP",
        "outputId": "be1a3e11-2c4e-45c1-a2ea-93f544de3270"
      },
      "source": [
        "#Problema 3.7\r\n",
        "\r\n",
        "MED = 0\r\n",
        "CHI = 0\r\n",
        "GRA = 0\r\n",
        "\r\n",
        "N = int(input(\"Ingrese el numero de ventas: \"))\r\n",
        "\r\n",
        "I = 1\r\n",
        "\r\n",
        "while I <= N:\r\n",
        "  V = float(input(\"Ingrese el precio de la venta: \"))\r\n",
        "  if V <= 200:\r\n",
        "    CHI = CHI + 1\r\n",
        "  else:\r\n",
        "    if V <= 400:\r\n",
        "      MED = MED + 1\r\n",
        "    else:\r\n",
        "      GRA = GRA + 1\r\n",
        "  I = I + 1\r\n",
        "\r\n",
        "print(f\"Hay {CHI} ventas que fueron chicas \\nHay {MED} ventas que fueron medianas \\nHay {GRA} ventas que fueron grandes\")\r\n"
      ],
      "execution_count": null,
      "outputs": [
        {
          "output_type": "stream",
          "text": [
            "Ingrese el numero de ventas: 12\n",
            "Ingrese el precio de la venta: 180.25\n",
            "Ingrese el precio de la venta: 470.30\n",
            "Ingrese el precio de la venta: 150.25\n",
            "Ingrese el precio de la venta: 88.60\n",
            "Ingrese el precio de la venta: 230.15\n",
            "Ingrese el precio de la venta: 170.20\n",
            "Ingrese el precio de la venta: 40.30\n",
            "Ingrese el precio de la venta: 201.90\n",
            "Ingrese el precio de la venta: 60.32\n",
            "Ingrese el precio de la venta: 280.30\n",
            "Ingrese el precio de la venta: 15.70\n",
            "Ingrese el precio de la venta: 140.20\n",
            "Hay 8 ventas que fueron chicas \n",
            "Hay 3 ventas que fueron medianas \n",
            "Hay 1 ventas que fueron grandes\n"
          ],
          "name": "stdout"
        }
      ]
    },
    {
      "cell_type": "code",
      "metadata": {
        "colab": {
          "base_uri": "https://localhost:8080/"
        },
        "id": "maBeTWXE9Z7W",
        "outputId": "086485e4-68da-498a-f122-c112ec1574bf"
      },
      "source": [
        "#Problema 3.8\r\n",
        "\r\n",
        "NUM = int(input(\"Ingrese un numero: \"))\r\n",
        "\r\n",
        "if NUM > 0:\r\n",
        "  while NUM != 1:\r\n",
        "    print(NUM, end = \"  \")\r\n",
        "    if (((-1) **NUM) > 0):\r\n",
        "      NUM = NUM / 2\r\n",
        "    else:\r\n",
        "      NUM = NUM * 3 + 1\r\n",
        "  print(NUM)\r\n",
        "else:\r\n",
        "  print(\"Debe de ingresar un numero entero positivo\")\r\n"
      ],
      "execution_count": null,
      "outputs": [
        {
          "output_type": "stream",
          "text": [
            "Ingrese un numero: 25\n",
            "25  76  38.0  19.0  58.0  29.0  88.0  44.0  22.0  11.0  34.0  17.0  52.0  26.0  13.0  40.0  20.0  10.0  5.0  16.0  8.0  4.0  2.0  1.0\n"
          ],
          "name": "stdout"
        }
      ]
    },
    {
      "cell_type": "code",
      "metadata": {
        "colab": {
          "base_uri": "https://localhost:8080/"
        },
        "id": "w-SlTdvM_qbT",
        "outputId": "f2d93316-cb8c-4acf-8d6c-ee4083822327"
      },
      "source": [
        "#Problema 3.9\r\n",
        "\r\n",
        "SERIE = 0\r\n",
        "\r\n",
        "NUM = int(input(\"Ingrese un numero: \"))\r\n",
        "\r\n",
        "I = 1\r\n",
        "\r\n",
        "while I <= NUM:\r\n",
        "  SERIE = SERIE + (I ** I)\r\n",
        "  I = I + 1\r\n",
        "print(SERIE)\r\n",
        " "
      ],
      "execution_count": null,
      "outputs": [
        {
          "output_type": "stream",
          "text": [
            "Ingrese un numero: 8\n",
            "17650828\n"
          ],
          "name": "stdout"
        }
      ]
    },
    {
      "cell_type": "code",
      "metadata": {
        "colab": {
          "base_uri": "https://localhost:8080/"
        },
        "id": "eEO_tB_lAUx3",
        "outputId": "18fa991d-7cab-4211-c1e5-dce6b96af776"
      },
      "source": [
        "#Problema 3.10\r\n",
        "\r\n",
        "PRI = 0\r\n",
        "SEG = 1\r\n",
        "I = 3\r\n",
        "\r\n",
        "while I <= 180:\r\n",
        "  SIG = PRI + SEG\r\n",
        "  PRI = SEG\r\n",
        "  SEG = SIG\r\n",
        "  I = I + 1\r\n",
        "\r\n",
        "print(SIG)\r\n"
      ],
      "execution_count": null,
      "outputs": [
        {
          "output_type": "stream",
          "text": [
            "11463113765491467695340528626429782121\n"
          ],
          "name": "stdout"
        }
      ]
    },
    {
      "cell_type": "code",
      "metadata": {
        "colab": {
          "base_uri": "https://localhost:8080/"
        },
        "id": "Vs3VVg36BxLy",
        "outputId": "a8929667-1ddc-4c01-f003-2212c37a9cca"
      },
      "source": [
        "#Problema 3.11\r\n",
        "\r\n",
        "CAN1 = 0\r\n",
        "CAN2 = 0\r\n",
        "CAN3 = 0\r\n",
        "CAN4 = 0\r\n",
        "\r\n",
        "VOTO = int(input(\"Ingrese el numero del candidato: \"))\r\n",
        "\r\n",
        "while VOTO != 0:\r\n",
        "  if VOTO == 1:\r\n",
        "    CAN1 = CAN1 + 1\r\n",
        "  if VOTO == 2:\r\n",
        "    CAN2 = CAN2 + 1\r\n",
        "  if VOTO == 3:\r\n",
        "    CAN3 = CAN3 + 1\r\n",
        "  if VOTO == 4:\r\n",
        "    CAN4 = CAN4 + 1\r\n",
        "  if VOTO == 5: # Voto extra debido a que no podia leer el Voto 4\r\n",
        "    CAN5 = CAN5 + 1\r\n",
        "  else:\r\n",
        "    VOTO = int(input(\"Ingrese el numero del candidato: \"))\r\n",
        "\r\n",
        "SUMV = CAN1 + CAN2 + CAN3 + CAN4\r\n",
        "POR1 = (CAN1 / SUMV) * 100\r\n",
        "POR2 = (CAN2 / SUMV) * 100\r\n",
        "POR3 = (CAN3 / SUMV) * 100\r\n",
        "POR4 = (CAN4 / SUMV) * 100\r\n",
        "\r\n",
        "print(f\"Participante 1 obtuvo {CAN1} votos con un porcentaje de {POR1}% \\nParticipante 2 obtuvo {CAN2} votos con un porcentaje de {POR2}% \\nParticipante 3 obtuvo {CAN3} votos con un porcentaje de {POR3}% \\nParticipante 4 obtuvo {CAN4} votos con un porcentaje de {POR4}% \\nVotos emitidos: {SUMV}\")\r\n"
      ],
      "execution_count": null,
      "outputs": [
        {
          "output_type": "stream",
          "text": [
            "Ingrese el numero del candidato: 1\n",
            "Ingrese el numero del candidato: 1\n",
            "Ingrese el numero del candidato: 2\n",
            "Ingrese el numero del candidato: 1\n",
            "Ingrese el numero del candidato: 3\n",
            "Ingrese el numero del candidato: 1\n",
            "Ingrese el numero del candidato: 1\n",
            "Ingrese el numero del candidato: 2\n",
            "Ingrese el numero del candidato: 4\n",
            "Ingrese el numero del candidato: 4\n",
            "Ingrese el numero del candidato: 3\n",
            "Ingrese el numero del candidato: 1\n",
            "Ingrese el numero del candidato: 1\n",
            "Ingrese el numero del candidato: 2\n",
            "Ingrese el numero del candidato: 3\n",
            "Ingrese el numero del candidato: 1\n",
            "Ingrese el numero del candidato: 4\n",
            "Ingrese el numero del candidato: 1\n",
            "Ingrese el numero del candidato: 2\n",
            "Ingrese el numero del candidato: 1\n",
            "Ingrese el numero del candidato: 2\n",
            "Ingrese el numero del candidato: 4\n",
            "Ingrese el numero del candidato: 4\n",
            "Ingrese el numero del candidato: 2\n",
            "Ingrese el numero del candidato: 1\n",
            "Ingrese el numero del candidato: 0\n",
            "Participante 1 obtuvo 11 votos con un porcentaje de 44.0% \n",
            "Participante 2 obtuvo 6 votos con un porcentaje de 24.0% \n",
            "Participante 3 obtuvo 3 votos con un porcentaje de 12.0% \n",
            "Participante 4 obtuvo 5 votos con un porcentaje de 20.0% \n",
            "Votos emitidos: 25\n"
          ],
          "name": "stdout"
        }
      ]
    },
    {
      "cell_type": "code",
      "metadata": {
        "id": "DYqGmZ2HMZ37",
        "colab": {
          "base_uri": "https://localhost:8080/"
        },
        "outputId": "21ed3e8d-a152-43d7-c1ec-cfc87493a3b8"
      },
      "source": [
        "#Problema 3.12\r\n",
        "\r\n",
        "MASUE = 0\r\n",
        "NUMEMP = 0\r\n",
        "N = int(input(\"Ingrese el numero de empleados de su empresa: \"))\r\n",
        "I = 1\r\n",
        "\r\n",
        "while I <= N:\r\n",
        "  NUMEMP = int(input(\"Ingrese el numero del empleado: \"))\r\n",
        "  SUE = float(input(\"Ingrese el sueldo del empleado:$ \"))\r\n",
        "  if SUE > MASUE:\r\n",
        "    MASUE = SUE\r\n",
        "    MANUM = NUMEMP\r\n",
        "  I = I + 1\r\n",
        "print(f\"El empleado con numero {MANUM} es el unico que tiene un sueldo alto dentro de la empresa, el cual es:$ {MASUE}\")\r\n"
      ],
      "execution_count": null,
      "outputs": [
        {
          "output_type": "stream",
          "text": [
            "Ingrese el numero de empleados de su empresa: 6\n",
            "Ingrese el numero del empleado: 1235\n",
            "Ingrese el sueldo del empleado:$ 2580\n",
            "Ingrese el numero del empleado: 1260\n",
            "Ingrese el sueldo del empleado:$ 1400\n",
            "Ingrese el numero del empleado: 1325\n",
            "Ingrese el sueldo del empleado:$ 3600\n",
            "Ingrese el numero del empleado: 1418\n",
            "Ingrese el sueldo del empleado:$ 2720\n",
            "Ingrese el numero del empleado: 1650\n",
            "Ingrese el sueldo del empleado:$ 4120\n",
            "Ingrese el numero del empleado: 1717\n",
            "Ingrese el sueldo del empleado:$ 1950\n",
            "El empleado con numero 1650 es el unico que tiene un sueldo alto dentro de la empresa, el cual es:$ 4120.0\n"
          ],
          "name": "stdout"
        }
      ]
    },
    {
      "cell_type": "code",
      "metadata": {
        "colab": {
          "base_uri": "https://localhost:8080/"
        },
        "id": "03dlatLzemJV",
        "outputId": "4cd9fd2d-017c-4da6-8043-d8c0a49e4ad5"
      },
      "source": [
        "#Problema 3.13\r\n",
        "\r\n",
        "ARSU = 0\r\n",
        "ARNO = 0\r\n",
        "MERSU = 50000\r\n",
        "ARCE = 0\r\n",
        "I = 1\r\n",
        "\r\n",
        "while I <= 12:\r\n",
        "  RNO = float(input(\"Ingrese la cantidad de lluvia caida en la Region NORTE: \"))\r\n",
        "  RCE = float(input(\"Ingrese la cantidad de lluvia caida en la Region CENTRO: \"))\r\n",
        "  RSU = float(input(\"Ingrese la cantidad de lluvia caida en la Region SUR: \"))\r\n",
        "  ARNO = ARNO + RNO \r\n",
        "  ARCE = ARCE + RCE \r\n",
        "  ARSU = ARSU + RSU \r\n",
        "  if RSU < MERSU:\r\n",
        "    MERSU = RSU \r\n",
        "    MES = I \r\n",
        "  I = I + 1\r\n",
        "\r\n",
        "PRORCE = ARCE/12\r\n",
        "print(f\"El promedio de lluvia de la Region CENTRO fue de {PRORCE} \\nEl mes con menos lluvia en la Region SUR fue de {MES} con un registro de {MERSU}\")\r\n",
        "\r\n",
        "if ARNO > ARCE:\r\n",
        "  if ARNO > ARSU:\r\n",
        "    print(\"La region con mayor lluvia es la Region NORTE\")\r\n",
        "  else:\r\n",
        "    print(\"La region con mayor lluvia es la Region SUR\")\r\n",
        "else:\r\n",
        "  if ARCE > ARSU:\r\n",
        "    print(\"La region con mayor lluvia es la Region CENTRO\")\r\n",
        "  else:\r\n",
        "    print(\"La region con mayor lluvia es la Region SUR\")\r\n",
        "\r\n"
      ],
      "execution_count": null,
      "outputs": [
        {
          "output_type": "stream",
          "text": [
            "Ingrese la cantidad de lluvia caida en la Region NORTE: 80\n",
            "Ingrese la cantidad de lluvia caida en la Region CENTRO: 70\n",
            "Ingrese la cantidad de lluvia caida en la Region SUR: 170\n",
            "Ingrese la cantidad de lluvia caida en la Region NORTE: 60\n",
            "Ingrese la cantidad de lluvia caida en la Region CENTRO: 85\n",
            "Ingrese la cantidad de lluvia caida en la Region SUR: 100\n",
            "Ingrese la cantidad de lluvia caida en la Region NORTE: 120\n",
            "Ingrese la cantidad de lluvia caida en la Region CENTRO: 100\n",
            "Ingrese la cantidad de lluvia caida en la Region SUR: 185\n",
            "Ingrese la cantidad de lluvia caida en la Region NORTE: 100\n",
            "Ingrese la cantidad de lluvia caida en la Region CENTRO: 90\n",
            "Ingrese la cantidad de lluvia caida en la Region SUR: 88\n",
            "Ingrese la cantidad de lluvia caida en la Region NORTE: 70\n",
            "Ingrese la cantidad de lluvia caida en la Region CENTRO: 82\n",
            "Ingrese la cantidad de lluvia caida en la Region SUR: 80\n",
            "Ingrese la cantidad de lluvia caida en la Region NORTE: 150\n",
            "Ingrese la cantidad de lluvia caida en la Region CENTRO: 130\n",
            "Ingrese la cantidad de lluvia caida en la Region SUR: 122\n",
            "Ingrese la cantidad de lluvia caida en la Region NORTE: 100\n",
            "Ingrese la cantidad de lluvia caida en la Region CENTRO: 95\n",
            "Ingrese la cantidad de lluvia caida en la Region SUR: 67\n",
            "Ingrese la cantidad de lluvia caida en la Region NORTE: 47\n",
            "Ingrese la cantidad de lluvia caida en la Region CENTRO: 38\n",
            "Ingrese la cantidad de lluvia caida en la Region SUR: 55\n",
            "Ingrese la cantidad de lluvia caida en la Region NORTE: 95\n",
            "Ingrese la cantidad de lluvia caida en la Region CENTRO: 115\n",
            "Ingrese la cantidad de lluvia caida en la Region SUR: 110\n",
            "Ingrese la cantidad de lluvia caida en la Region NORTE: 70\n",
            "Ingrese la cantidad de lluvia caida en la Region CENTRO: 62\n",
            "Ingrese la cantidad de lluvia caida en la Region SUR: 83\n",
            "Ingrese la cantidad de lluvia caida en la Region NORTE: 100\n",
            "Ingrese la cantidad de lluvia caida en la Region CENTRO: 87\n",
            "Ingrese la cantidad de lluvia caida en la Region SUR: 107\n",
            "Ingrese la cantidad de lluvia caida en la Region NORTE: 130\n",
            "Ingrese la cantidad de lluvia caida en la Region CENTRO: 105\n",
            "Ingrese la cantidad de lluvia caida en la Region SUR: 148\n",
            "El promedio de lluvia de la Region CENTRO fue de 88.25 \n",
            "El mes con menos lluvia en la Region SUR fue de 8 con un registro de 55.0\n",
            "La region con mayor lluvia es la Region SUR\n"
          ],
          "name": "stdout"
        }
      ]
    },
    {
      "cell_type": "code",
      "metadata": {
        "colab": {
          "base_uri": "https://localhost:8080/"
        },
        "id": "7yfLENaDnbp5",
        "outputId": "abab6af6-b541-4f4e-eb22-c1c7522bc3fd"
      },
      "source": [
        "#Problema 3.14\r\n",
        "\r\n",
        "AP1 = 0\r\n",
        "AP2 = 0\r\n",
        "AP3 = 0\r\n",
        "AP4 = 0\r\n",
        "AP5 = 0\r\n",
        "RECAU = 0\r\n",
        "\r\n",
        "P1 = float(input(\"Ingrese el precio de la Localidad 1:$ \"))\r\n",
        "P2 = float(input(\"Ingrese el precio de la Localidad 2:$ \"))\r\n",
        "P3 = float(input(\"Ingrese el precio de la Localidad 3:$ \"))\r\n",
        "P4 = float(input(\"Ingrese el precio de la Localidad 4:$ \"))\r\n",
        "P5 = float(input(\"Ingrese el precio de la Localidad 5:$ \"))\r\n",
        "\r\n",
        "CLAVE = float(input(\"Ingrese el numero de la localidad: \"))\r\n",
        "CANT = float(input(\"Ingrese la cantidad de boletos: \"))\r\n",
        "\r\n",
        "while CLAVE != -1 and CANT != -1:\r\n",
        "  if CLAVE == 1:\r\n",
        "    PRE = P1 * CANT\r\n",
        "    AP1 = AP1 + CANT\r\n",
        "  if CLAVE == 2:\r\n",
        "    PRE = P2 * CANT\r\n",
        "    AP2 = AP2 + CANT\r\n",
        "  if CLAVE == 3:\r\n",
        "    PRE = P3 * CANT\r\n",
        "    AP3 = AP3 + CANT\r\n",
        "  if CLAVE == 4:\r\n",
        "    PRE = P4 * CANT\r\n",
        "    AP4 = AP4 + CANT\r\n",
        "  if CLAVE == 5:\r\n",
        "    PRE = P5 * CANT\r\n",
        "    AP5 = AP5 + CANT\r\n",
        "  print(f\"Se vendieron {CANT} boletos de la localidad {CLAVE}, obteniendo como ganancia ${PRE}\")\r\n",
        "  RECAU = RECAU + PRE \r\n",
        "  CLAVE = float(input(\"Ingrese el numero de la localidad: \"))\r\n",
        "  CANT = float(input(\"Ingrese la cantidad de boletos: \"))\r\n",
        "\r\n",
        "print(f\"La cantidad de boletos de la localidad 1 fue de {AP1}\")\r\n",
        "print(f\"La cantidad de boletos de la localidad 2 fue de {AP2}\")\r\n",
        "print(f\"La cantidad de boletos de la localidad 3 fue de {AP3}\")\r\n",
        "print(f\"La cantidad de boletos de la localidad 4 fue de {AP4}\")\r\n",
        "print(f\"La cantidad de boletos de la localidad 5 fue de {AP5}\")\r\n",
        "print(f\"La recaudacion del estado fue de {RECAU}\")\r\n"
      ],
      "execution_count": null,
      "outputs": [
        {
          "output_type": "stream",
          "text": [
            "Ingrese el precio de la Localidad 1:$ 7.25\n",
            "Ingrese el precio de la Localidad 2:$ 15.80\n",
            "Ingrese el precio de la Localidad 3:$ 25\n",
            "Ingrese el precio de la Localidad 4:$ 50\n",
            "Ingrese el precio de la Localidad 5:$ 75\n",
            "Ingrese el numero de la localidad: 2\n",
            "Ingrese la cantidad de boletos: 3\n",
            "Se vendieron 3.0 boletos de la localidad 2.0, obteniendo como ganancia $47.400000000000006\n",
            "Ingrese el numero de la localidad: 3\n",
            "Ingrese la cantidad de boletos: 8\n",
            "Se vendieron 8.0 boletos de la localidad 3.0, obteniendo como ganancia $200.0\n",
            "Ingrese el numero de la localidad: 2\n",
            "Ingrese la cantidad de boletos: 4\n",
            "Se vendieron 4.0 boletos de la localidad 2.0, obteniendo como ganancia $63.2\n",
            "Ingrese el numero de la localidad: 1\n",
            "Ingrese la cantidad de boletos: 6\n",
            "Se vendieron 6.0 boletos de la localidad 1.0, obteniendo como ganancia $43.5\n",
            "Ingrese el numero de la localidad: 4\n",
            "Ingrese la cantidad de boletos: 5\n",
            "Se vendieron 5.0 boletos de la localidad 4.0, obteniendo como ganancia $250.0\n",
            "Ingrese el numero de la localidad: 1\n",
            "Ingrese la cantidad de boletos: 12\n",
            "Se vendieron 12.0 boletos de la localidad 1.0, obteniendo como ganancia $87.0\n",
            "Ingrese el numero de la localidad: 2\n",
            "Ingrese la cantidad de boletos: 8\n",
            "Se vendieron 8.0 boletos de la localidad 2.0, obteniendo como ganancia $126.4\n",
            "Ingrese el numero de la localidad: 5\n",
            "Ingrese la cantidad de boletos: 3\n",
            "Se vendieron 3.0 boletos de la localidad 5.0, obteniendo como ganancia $225.0\n",
            "Ingrese el numero de la localidad: 2\n",
            "Ingrese la cantidad de boletos: 7\n",
            "Se vendieron 7.0 boletos de la localidad 2.0, obteniendo como ganancia $110.60000000000001\n",
            "Ingrese el numero de la localidad: 3\n",
            "Ingrese la cantidad de boletos: 14\n",
            "Se vendieron 14.0 boletos de la localidad 3.0, obteniendo como ganancia $350.0\n",
            "Ingrese el numero de la localidad: 4\n",
            "Ingrese la cantidad de boletos: 1\n",
            "Se vendieron 1.0 boletos de la localidad 4.0, obteniendo como ganancia $50.0\n",
            "Ingrese el numero de la localidad: 2\n",
            "Ingrese la cantidad de boletos: 11\n",
            "Se vendieron 11.0 boletos de la localidad 2.0, obteniendo como ganancia $173.8\n",
            "Ingrese el numero de la localidad: 4\n",
            "Ingrese la cantidad de boletos: 9\n",
            "Se vendieron 9.0 boletos de la localidad 4.0, obteniendo como ganancia $450.0\n",
            "Ingrese el numero de la localidad: 5\n",
            "Ingrese la cantidad de boletos: 7\n",
            "Se vendieron 7.0 boletos de la localidad 5.0, obteniendo como ganancia $525.0\n",
            "Ingrese el numero de la localidad: 1\n",
            "Ingrese la cantidad de boletos: 23\n",
            "Se vendieron 23.0 boletos de la localidad 1.0, obteniendo como ganancia $166.75\n",
            "Ingrese el numero de la localidad: 1\n",
            "Ingrese la cantidad de boletos: 18\n",
            "Se vendieron 18.0 boletos de la localidad 1.0, obteniendo como ganancia $130.5\n",
            "Ingrese el numero de la localidad: 3\n",
            "Ingrese la cantidad de boletos: 4\n",
            "Se vendieron 4.0 boletos de la localidad 3.0, obteniendo como ganancia $100.0\n",
            "Ingrese el numero de la localidad: -1\n",
            "Ingrese la cantidad de boletos: -1\n",
            "La cantidad de boletos de la localidad 1 fue de 59.0\n",
            "La cantidad de boletos de la localidad 2 fue de 33.0\n",
            "La cantidad de boletos de la localidad 3 fue de 26.0\n",
            "La cantidad de boletos de la localidad 4 fue de 15.0\n",
            "La cantidad de boletos de la localidad 5 fue de 10.0\n",
            "La recaudacion del estado fue de 3099.1499999999996\n"
          ],
          "name": "stdout"
        }
      ]
    },
    {
      "cell_type": "code",
      "metadata": {
        "colab": {
          "base_uri": "https://localhost:8080/"
        },
        "id": "3uywr3gTxaIY",
        "outputId": "22307f7a-bee5-4689-efe6-c1ac8e0dd32d"
      },
      "source": [
        "#Problema 3.15\r\n",
        "\r\n",
        "COSTO = 0\r\n",
        "CL = 0\r\n",
        "CUENTA = 0\r\n",
        "\r\n",
        "TIPO = input(\"Ingrese el tipo de llamada (1 / 2 / 3), presione 'X' para confirmar \")\r\n",
        "DUR = int(input(\"Ingrese la duracion de su llamada, cuando haya ingresado la duracion, ingrese '-1' \"))\r\n",
        "\r\n",
        "while TIPO != \"X\" and DUR != -1:\r\n",
        "  if TIPO == \"1\":\r\n",
        "    if DUR > 3:\r\n",
        "      COSTO = 7.59 + (DUR - 3)*3.03\r\n",
        "  else:\r\n",
        "    COSTO = 7.59\r\n",
        "  if TIPO == \"2\":\r\n",
        "    CL = CL + 1\r\n",
        "    if CL > 50:\r\n",
        "      COSTO = 0.60\r\n",
        "    else:\r\n",
        "      COSTO = 0\r\n",
        "  if TIPO == \"3\":\r\n",
        "    if DUR > 3:\r\n",
        "      COSTO = 1.20 + (DUR - 3)*0.48\r\n",
        "    else:\r\n",
        "      COSTO = 1.20\r\n",
        "  CUENTA = CUENTA + COSTO\r\n",
        "  TIPO = input(\"Ingrese el tipo de llamada (1 / 2 / 3), presione 'X' para confirmar \")\r\n",
        "  DUR = int(input(\"Ingrese la duracion de su llamada, cuando haya ingresado la duracion, ingrese '-1' \"))\r\n",
        "\r\n",
        "print(f\"La cuenta de su llamada es de {CUENTA}\")\r\n"
      ],
      "execution_count": null,
      "outputs": [
        {
          "output_type": "stream",
          "text": [
            "Ingrese el tipo de llamada (1 / 2 / 3), presione 'X' para confirmar 1\n",
            "Ingrese la duracion de su llamada, cuando haya ingresado la duracion, ingrese '-1' 7\n",
            "Ingrese el tipo de llamada (1 / 2 / 3), presione 'X' para confirmar 3\n",
            "Ingrese la duracion de su llamada, cuando haya ingresado la duracion, ingrese '-1' 6\n",
            "Ingrese el tipo de llamada (1 / 2 / 3), presione 'X' para confirmar 3\n",
            "Ingrese la duracion de su llamada, cuando haya ingresado la duracion, ingrese '-1' 12\n",
            "Ingrese el tipo de llamada (1 / 2 / 3), presione 'X' para confirmar 2\n",
            "Ingrese la duracion de su llamada, cuando haya ingresado la duracion, ingrese '-1' 5\n",
            "Ingrese el tipo de llamada (1 / 2 / 3), presione 'X' para confirmar 2\n",
            "Ingrese la duracion de su llamada, cuando haya ingresado la duracion, ingrese '-1' 7\n",
            "Ingrese el tipo de llamada (1 / 2 / 3), presione 'X' para confirmar 2\n",
            "Ingrese la duracion de su llamada, cuando haya ingresado la duracion, ingrese '-1' 15\n",
            "Ingrese el tipo de llamada (1 / 2 / 3), presione 'X' para confirmar 3\n",
            "Ingrese la duracion de su llamada, cuando haya ingresado la duracion, ingrese '-1' 16\n",
            "Ingrese el tipo de llamada (1 / 2 / 3), presione 'X' para confirmar 2\n",
            "Ingrese la duracion de su llamada, cuando haya ingresado la duracion, ingrese '-1' 7\n",
            "Ingrese el tipo de llamada (1 / 2 / 3), presione 'X' para confirmar 2\n",
            "Ingrese la duracion de su llamada, cuando haya ingresado la duracion, ingrese '-1' 6\n",
            "Ingrese el tipo de llamada (1 / 2 / 3), presione 'X' para confirmar 2\n",
            "Ingrese la duracion de su llamada, cuando haya ingresado la duracion, ingrese '-1' 4\n",
            "Ingrese el tipo de llamada (1 / 2 / 3), presione 'X' para confirmar 1\n",
            "Ingrese la duracion de su llamada, cuando haya ingresado la duracion, ingrese '-1' 11\n",
            "Ingrese el tipo de llamada (1 / 2 / 3), presione 'X' para confirmar X\n",
            "Ingrese la duracion de su llamada, cuando haya ingresado la duracion, ingrese '-1' -1\n",
            "La cuenta de su llamada es de 67.14\n"
          ],
          "name": "stdout"
        }
      ]
    },
    {
      "cell_type": "code",
      "metadata": {
        "colab": {
          "base_uri": "https://localhost:8080/"
        },
        "id": "wF6CElUM1vAR",
        "outputId": "7be2c5ab-621e-4cf1-cddc-07120cba8385"
      },
      "source": [
        "#Problema 3.16\r\n",
        "\r\n",
        "TIPO1 = 0\r\n",
        "TIPO2 = 0 \r\n",
        "TIPO3 = 0 \r\n",
        "TIPO4 = 0 \r\n",
        "TIPO5 = 0 \r\n",
        "MCTIPO2 = 0\r\n",
        "\r\n",
        "N = int(input(\"Ingrese el numero de años: \"))\r\n",
        "I = 1\r\n",
        "\r\n",
        "while I <= N:\r\n",
        "  J = 1\r\n",
        "  TOTVIN = 0\r\n",
        "  while J <= 5:\r\n",
        "    V = float(input(f\"Ingrese el total de litros de tipo {J} del año {I}: \"))\r\n",
        "    TOTVIN = TOTVIN + V\r\n",
        "    if J == 1:\r\n",
        "      TIPO1 = TIPO1 + V\r\n",
        "    if J == 2:\r\n",
        "      TIPO2 = TIPO2 + V\r\n",
        "      if V > MCTIPO2:\r\n",
        "        MCTIPO2 = V\r\n",
        "        AÑO = I\r\n",
        "    if J == 3:\r\n",
        "      TIPO3 = TIPO3 + V\r\n",
        "      if V == 0:\r\n",
        "        print(f\"El año {I}, no produjo vino del TIPO 3\")\r\n",
        "    if J == 4:\r\n",
        "      TIPO4 = TIPO4 + V\r\n",
        "    if J == 5:\r\n",
        "      TIPO5 = TIPO5 + V\r\n",
        "    J = J + 1\r\n",
        "  print(f\"Total de litros producidos por año {TOTVIN}\")\r\n",
        "  I = I + 1\r\n",
        "\r\n",
        "print(f\"Se logro producir un total de {TIPO1} litros de vino TIPO 1 \\nSe logro producir un total de {TIPO2} litros de vino TIPO 2 \\nSe logro producir un total de {TIPO3} litros de vino TIPO 3 \\nSe logro producir un total de {TIPO4} litros de vino TIPO 4 \\nSe logro producir un total de {TIPO5} litros de vino TIPO 5\")\r\n",
        "print(f\"En el año {AÑO} se logro producir {MCTIPO2} litros de vino TIPO 2\")\r\n"
      ],
      "execution_count": null,
      "outputs": [
        {
          "output_type": "stream",
          "text": [
            "Ingrese el numero de años: 4\n",
            "Ingrese el total de litros de tipo 1 del año 1: 10\n",
            "Ingrese el total de litros de tipo 2 del año 1: 20\n",
            "Ingrese el total de litros de tipo 3 del año 1: 30\n",
            "Ingrese el total de litros de tipo 4 del año 1: 40\n",
            "Ingrese el total de litros de tipo 5 del año 1: 50\n",
            "Total de litros producidos por año 150.0\n",
            "Ingrese el total de litros de tipo 1 del año 2: 20\n",
            "Ingrese el total de litros de tipo 2 del año 2: 30\n",
            "Ingrese el total de litros de tipo 3 del año 2: 40\n",
            "Ingrese el total de litros de tipo 4 del año 2: 50\n",
            "Ingrese el total de litros de tipo 5 del año 2: 60\n",
            "Total de litros producidos por año 200.0\n",
            "Ingrese el total de litros de tipo 1 del año 3: 30\n",
            "Ingrese el total de litros de tipo 2 del año 3: 40\n",
            "Ingrese el total de litros de tipo 3 del año 3: 50\n",
            "Ingrese el total de litros de tipo 4 del año 3: 60\n",
            "Ingrese el total de litros de tipo 5 del año 3: 70\n",
            "Total de litros producidos por año 250.0\n",
            "Ingrese el total de litros de tipo 1 del año 4: 5\n",
            "Ingrese el total de litros de tipo 2 del año 4: 30\n",
            "Ingrese el total de litros de tipo 3 del año 4: 50\n",
            "Ingrese el total de litros de tipo 4 del año 4: 70\n",
            "Ingrese el total de litros de tipo 5 del año 4: 40\n",
            "Total de litros producidos por año 195.0\n",
            "Se logro producir un total de 65.0 litros de vino TIPO 1 \n",
            "Se logro producir un total de 120.0 litros de vino TIPO 2 \n",
            "Se logro producir un total de 170.0 litros de vino TIPO 3 \n",
            "Se logro producir un total de 220.0 litros de vino TIPO 4 \n",
            "Se logro producir un total de 220.0 litros de vino TIPO 5\n",
            "En el año 3 se logro producir 40.0 litros de vino TIPO 2\n"
          ],
          "name": "stdout"
        }
      ]
    },
    {
      "cell_type": "code",
      "metadata": {
        "id": "pRl4h3oF5wWt",
        "colab": {
          "base_uri": "https://localhost:8080/"
        },
        "outputId": "4bf1b04f-e47a-4960-bce4-e8457cee6eca"
      },
      "source": [
        "#Problema 3.17\r\n",
        "\r\n",
        "I = 3\r\n",
        "SP = 0\r\n",
        "\r\n",
        "M = int(input(\"Ingrese un numero: \"))\r\n",
        "if M >= 1:\r\n",
        "  SP = SP + 1\r\n",
        "  print(\"1 es numero primo\")\r\n",
        "if M >= 2:\r\n",
        "  SP = SP + 1\r\n",
        "  print(\"2 es numero primo\")\r\n",
        "while I <= M:\r\n",
        "  BAND = True\r\n",
        "  J = 3\r\n",
        "  while J < (I / 2) and BAND == True:\r\n",
        "    if (I % J) == 0:\r\n",
        "      BAND = False\r\n",
        "      J = J + 2\r\n",
        "  BAND = True\r\n",
        "  print(f\"{I} es un numero primo\")\r\n",
        "  SP = SP + 1\r\n",
        "  I = I + 2\r\n",
        "print(f\"Entre 1 y {M} hay {SP} numeros primos\")\r\n"
      ],
      "execution_count": 2,
      "outputs": [
        {
          "output_type": "stream",
          "text": [
            "Ingrese un numero: 3\n",
            "1 es numero primo\n",
            "2 es numero primo\n",
            "3 es un numero primo\n",
            "Entre 1 y 3 hay 3 numeros primos\n"
          ],
          "name": "stdout"
        }
      ]
    },
    {
      "cell_type": "code",
      "metadata": {
        "colab": {
          "base_uri": "https://localhost:8080/"
        },
        "id": "8UTxR0vUaQJt",
        "outputId": "d39c55aa-c1e2-4fb0-be05-71ec6bf8df2a"
      },
      "source": [
        "#Problema 3.18\r\n",
        "\r\n",
        "MAYPRO = 0\r\n",
        "N = int(input(\"Ingrese el numero de fabricas registradas: \"))\r\n",
        "\r\n",
        "if N <= 100:\r\n",
        "  I = 1\r\n",
        "  while I <= N:\r\n",
        "    FABRICA = int(I)\r\n",
        "    TOTANU = 0\r\n",
        "    J = 1\r\n",
        "    while J <= 12:\r\n",
        "      MES = float(input(f\"Ingrese la produccion del mes {J} de la fabrica {I}: \"))\r\n",
        "      TOTANU =  TOTANU + MES\r\n",
        "      if J == 7 and MES > 3000000:\r\n",
        "        print(f\"La fabrica {FABRICA} obtuvo mas de $3 000 000 en Julio\")\r\n",
        "      J = J + 1\r\n",
        "    if TOTANU > MAYPRO:\r\n",
        "      MAYPRO = TOTANU\r\n",
        "      CLAVE = FABRICA\r\n",
        "    print(f\"La produccion anual de la fabrica {FABRICA} es de ${TOTANU}\")\r\n",
        "    I = I + 1\r\n",
        "  print(f\"La fabrica que mas produjo en el año fue la {CLAVE} con produccion de ${MAYPRO}\")\r\n",
        "else:\r\n",
        "  print(f\"ERROR EN NUMERO DE FABRICAS, POR FAVOR, INGRESE UN NUMERO VALIDO\")\r\n"
      ],
      "execution_count": 11,
      "outputs": [
        {
          "output_type": "stream",
          "text": [
            "Ingrese el numero de fabricas registradas: 2\n",
            "Ingrese la produccion del mes 1 de la fabrica 1: 1000000\n",
            "Ingrese la produccion del mes 2 de la fabrica 1: 1200000\n",
            "Ingrese la produccion del mes 3 de la fabrica 1: 1400000\n",
            "Ingrese la produccion del mes 4 de la fabrica 1: 1600000\n",
            "Ingrese la produccion del mes 5 de la fabrica 1: 1800000\n",
            "Ingrese la produccion del mes 6 de la fabrica 1: 2000000\n",
            "Ingrese la produccion del mes 7 de la fabrica 1: 2200000\n",
            "Ingrese la produccion del mes 8 de la fabrica 1: 2400000\n",
            "Ingrese la produccion del mes 9 de la fabrica 1: 2500000\n",
            "Ingrese la produccion del mes 10 de la fabrica 1: 2900000\n",
            "Ingrese la produccion del mes 11 de la fabrica 1: 3100000\n",
            "Ingrese la produccion del mes 12 de la fabrica 1: 3200000\n",
            "La produccion anual de la fabrica 1 es de $25300000.0\n",
            "Ingrese la produccion del mes 1 de la fabrica 2: 500000\n",
            "Ingrese la produccion del mes 2 de la fabrica 2: 1000000\n",
            "Ingrese la produccion del mes 3 de la fabrica 2: 1200000\n",
            "Ingrese la produccion del mes 4 de la fabrica 2: 1500000\n",
            "Ingrese la produccion del mes 5 de la fabrica 2: 1800000\n",
            "Ingrese la produccion del mes 6 de la fabrica 2: 2000000\n",
            "Ingrese la produccion del mes 7 de la fabrica 2: 2200000\n",
            "Ingrese la produccion del mes 8 de la fabrica 2: 2500000\n",
            "Ingrese la produccion del mes 9 de la fabrica 2: 2800000\n",
            "Ingrese la produccion del mes 10 de la fabrica 2: 300000\n",
            "Ingrese la produccion del mes 11 de la fabrica 2: 3000000\n",
            "Ingrese la produccion del mes 12 de la fabrica 2: 3500000\n",
            "La produccion anual de la fabrica 2 es de $22300000.0\n",
            "La fabrica que mas produjo en el año fue la 1 con produccion de $25300000.0\n"
          ],
          "name": "stdout"
        }
      ]
    },
    {
      "cell_type": "code",
      "metadata": {
        "colab": {
          "base_uri": "https://localhost:8080/"
        },
        "id": "BFSwWuezfbcI",
        "outputId": "be745f8d-072f-48c3-b5d3-3a91f30cb40c"
      },
      "source": [
        "#Problema 3.19\r\n",
        "\r\n",
        "N = int(input(\"Ingrese un numero: \"))\r\n",
        "I = 1\r\n",
        "while I <= N:\r\n",
        "  SUM = 0\r\n",
        "  J = 1\r\n",
        "  while J <= (I/2):\r\n",
        "    if (I % J) == 0:\r\n",
        "      SUM = SUM + J\r\n",
        "    J = J + 1\r\n",
        "  if SUM == I:\r\n",
        "    print(f\"{I} es un numero perfecto\")\r\n",
        "  I = I + 1\r\n"
      ],
      "execution_count": 12,
      "outputs": [
        {
          "output_type": "stream",
          "text": [
            "Ingrese un numero: 9\n",
            "6 es un numero perfecto\n"
          ],
          "name": "stdout"
        }
      ]
    }
  ]
}