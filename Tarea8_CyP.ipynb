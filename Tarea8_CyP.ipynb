{
  "nbformat": 4,
  "nbformat_minor": 0,
  "metadata": {
    "colab": {
      "name": "Tarea8_CyP.ipynb",
      "provenance": [],
      "authorship_tag": "ABX9TyMMG8QCuyXaQDfSug1cNN8X",
      "include_colab_link": true
    },
    "kernelspec": {
      "name": "python3",
      "display_name": "Python 3"
    }
  },
  "cells": [
    {
      "cell_type": "markdown",
      "metadata": {
        "id": "view-in-github",
        "colab_type": "text"
      },
      "source": [
        "<a href=\"https://colab.research.google.com/github/Angel-Joven/cyp_2021/blob/main/Tarea8_CyP.ipynb\" target=\"_parent\"><img src=\"https://colab.research.google.com/assets/colab-badge.svg\" alt=\"Open In Colab\"/></a>"
      ]
    },
    {
      "cell_type": "code",
      "metadata": {
        "colab": {
          "base_uri": "https://localhost:8080/"
        },
        "id": "rqhffcZ7gC2W",
        "outputId": "f305a3c4-23c1-40f5-cf34-b0155ca815ff"
      },
      "source": [
        "#Nombre y marco con codigo Unicode\r\n",
        "\r\n",
        "#Linea Horizontal 1\r\n",
        "print(\"\\u2728\",\"\\u2728\",\"\\u2728\",\"\\u2728\",\"\\u2728\",\"\\u2728\",\"\\u2728\",\"\\u2728\",\"\\u2728\",\"\\u2728\",\"\\u2728\",\"\\u2728\",\"\\u2728\",\"\\u2728\",\"\\u2728\",\"\\u2728\",\"\\u2728\",\"\\u2728\")\r\n",
        "\r\n",
        "#Lineas Verticales y nombre\r\n",
        "print(\"\\u2728\",\"\\u2122\",\"\\u2122\",\"\\u2122\",\"\\u2122\",\"  \\u2122\",\"\\u2122\",\"\\u2122\",\"  \\u2122\",\"  \\u2122\",\"\\u2122\",\"\\u2122\",\"\\u2122\",\"      \\u2122\",\"\\u2122\",\"\\u2122\",\"\\u2122\",\"   \\u2122\",\"       \\u2728\")\r\n",
        "print(\"\\u2728\",\"\\u2122\",\"    \\u2122\",\"  \\u2122\",\"  \\u2122\",\"  \\u2122\",\"  \\u2122\",\"            \\u2122\",\"         \\u2122\",\"       \\u2728\")\r\n",
        "print(\"\\u2728\",\"\\u2122\",\"\\u2122\",\"\\u2122\",\"\\u2122\",\"  \\u2122\",\"  \\u2122\",\"  \\u2122\",\"  \\u2122\",\"    \\u2122\",\"\\u2122\",\"\\u2122\",\"  \\u2122\",\"\\u2122\",\"\\u2122\",\"     \\u2122\",\"       \\u2728\")\r\n",
        "print(\"\\u2728\",\"\\u2122\",\"    \\u2122\",\"  \\u2122\",\"  \\u2122\",\"  \\u2122\",\"  \\u2122\",\"        \\u2122\",\"  \\u2122\",\"         \\u2122\",\"       \\u2728\")\r\n",
        "print(\"\\u2728\",\"\\u2122\",\"    \\u2122\",\"  \\u2122\",\"  \\u2122\",\"\\u2122\",\"\\u2122\",\"  \\u2122\",\"\\u2122\",\"\\u2122\",\"\\u2122\",\"  \\u2122\",\"  \\u2122\",\"\\u2122\",\"\\u2122\",\"\\u2122\",\"   \\u2122\",\"\\u2122\",\"\\u2122\",\"\\u2122\",\" \\u2728\")\r\n",
        "\r\n",
        "#Linea Horizontal 2\r\n",
        "print(\"\\u2728\",\"\\u2728\",\"\\u2728\",\"\\u2728\",\"\\u2728\",\"\\u2728\",\"\\u2728\",\"\\u2728\",\"\\u2728\",\"\\u2728\",\"\\u2728\",\"\\u2728\",\"\\u2728\",\"\\u2728\",\"\\u2728\",\"\\u2728\",\"\\u2728\",\"\\u2728\")\r\n"
      ],
      "execution_count": 155,
      "outputs": [
        {
          "output_type": "stream",
          "text": [
            "✨ ✨ ✨ ✨ ✨ ✨ ✨ ✨ ✨ ✨ ✨ ✨ ✨ ✨ ✨ ✨ ✨ ✨\n",
            "✨ ™ ™ ™ ™   ™ ™ ™   ™   ™ ™ ™ ™       ™ ™ ™ ™    ™        ✨\n",
            "✨ ™     ™   ™   ™   ™   ™             ™          ™        ✨\n",
            "✨ ™ ™ ™ ™   ™   ™   ™   ™     ™ ™ ™   ™ ™ ™      ™        ✨\n",
            "✨ ™     ™   ™   ™   ™   ™         ™   ™          ™        ✨\n",
            "✨ ™     ™   ™   ™ ™ ™   ™ ™ ™ ™   ™   ™ ™ ™ ™    ™ ™ ™ ™  ✨\n",
            "✨ ✨ ✨ ✨ ✨ ✨ ✨ ✨ ✨ ✨ ✨ ✨ ✨ ✨ ✨ ✨ ✨ ✨\n"
          ],
          "name": "stdout"
        }
      ]
    }
  ]
}