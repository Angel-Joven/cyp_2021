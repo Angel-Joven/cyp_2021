{
  "nbformat": 4,
  "nbformat_minor": 0,
  "metadata": {
    "colab": {
      "name": "26_Enero_2021_CyP.ipynb",
      "provenance": [],
      "authorship_tag": "ABX9TyOU4rHdhyX00mMktD/AFpsa",
      "include_colab_link": true
    },
    "kernelspec": {
      "name": "python3",
      "display_name": "Python 3"
    }
  },
  "cells": [
    {
      "cell_type": "markdown",
      "metadata": {
        "id": "view-in-github",
        "colab_type": "text"
      },
      "source": [
        "<a href=\"https://colab.research.google.com/github/Angel-Joven/cyp_2021/blob/main/26_Enero_2021_CyP.ipynb\" target=\"_parent\"><img src=\"https://colab.research.google.com/assets/colab-badge.svg\" alt=\"Open In Colab\"/></a>"
      ]
    },
    {
      "cell_type": "markdown",
      "metadata": {
        "id": "0uTsXGTtJJoB"
      },
      "source": [
        "# Listas de lenguaje pyhton 3\r\n",
        "\r\n",
        "1. Es una estructura de datos linealies, de 0 o n elementos.\r\n",
        "2. \"Equivale\" a los arreglos (No se usan tal cual)\r\n",
        "3. Se pueden utilizar diferentes tipos de datos. [1, 2, 3, 32] , [1, True, 2.35, \"Hola\"]\r\n",
        "4. Pueden ser anidads,listas de listas. [\"Melón\", \"Manzana roja\", \"Manzana amarilla\"]\r\n",
        "5. Su selector es de la forma: [ int ]\r\n",
        "6. Son mutables (son modificables)."
      ]
    },
    {
      "cell_type": "code",
      "metadata": {
        "colab": {
          "base_uri": "https://localhost:8080/"
        },
        "id": "rsDvVuXHJWIL",
        "outputId": "f28d6dc4-fecc-4131-ee05-d828bed39fb6"
      },
      "source": [
        "# Ejemplos\r\n",
        "numeros= [4,2,45,7,83,3]\r\n",
        "print(numeros)\r\n",
        "print(numeros[2]) # Seleccionar un numero en especifico\r\n",
        "\r\n",
        "# Una lista de 0 elementos\r\n",
        "colores=[] # Forma list()\r\n",
        "type(colores) # Para averiguar que tipo de dato es:  type() \r\n",
        "\r\n",
        "dias= list() # Forma de hacer una lista vacia con list()\r\n",
        "print(colores)\r\n",
        "print(dias)"
      ],
      "execution_count": 10,
      "outputs": [
        {
          "output_type": "stream",
          "text": [
            "[4, 2, 45, 7, 83, 3]\n",
            "45\n",
            "[]\n",
            "[]\n"
          ],
          "name": "stdout"
        }
      ]
    },
    {
      "cell_type": "code",
      "metadata": {
        "colab": {
          "base_uri": "https://localhost:8080/"
        },
        "id": "gkp3mcrzJZQd",
        "outputId": "cd676dd9-4b00-4bae-fc25-8b79c3eb6ad1"
      },
      "source": [
        "# Pueden ser diferentes tipos de datos.\r\n",
        "mi_lista=[1, 2, 3, \"José\", False, 1.76, [552345653, 44553412432, 556677888] ]\r\n",
        "print(mi_lista)\r\n",
        "print(mi_lista[5])\r\n",
        "print(mi_lista[6][1]) \r\n",
        "print(mi_lista[3][3]) # Concepto\r\n",
        "print(mi_lista[3][3::]) # Rebanado\r\n",
        "print(mi_lista[3][-1::]) # Rebanado\r\n",
        "mi_lista=[1, 2, 3, \"José\", False, 1.76, [\"552345653\", \"44553412432\", \"556677888\"] ]\r\n",
        "print( str(mi_lista[6][1][2]))"
      ],
      "execution_count": 11,
      "outputs": [
        {
          "output_type": "stream",
          "text": [
            "[1, 2, 3, 'José', False, 1.76, [552345653, 44553412432, 556677888]]\n",
            "1.76\n",
            "44553412432\n",
            "é\n",
            "é\n",
            "é\n",
            "5\n"
          ],
          "name": "stdout"
        }
      ]
    },
    {
      "cell_type": "code",
      "metadata": {
        "colab": {
          "base_uri": "https://localhost:8080/"
        },
        "id": "JK0MD-0sJbVO",
        "outputId": "c0a38d19-12e3-46b4-9c9c-f8415c469b2d"
      },
      "source": [
        "frutas= [\"melon\",\"sandia\",\"Kiwi\",\"Aguacate\",\"Mango\",\"Platano\"]\r\n",
        "print(frutas)\r\n",
        "frutas[0]=\"Melón\"\r\n",
        "print(frutas)\r\n",
        "\r\n",
        "#frutas[1][0]=\"s\"\r\n",
        "#frutas[1]=frutas[1].capitalize()\r\n",
        "#print(frutas)\r\n",
        "\r\n",
        "frutas[1]=frutas[1][0].upper() + frutas[1][1:]\r\n",
        "print(frutas)"
      ],
      "execution_count": 12,
      "outputs": [
        {
          "output_type": "stream",
          "text": [
            "['melon', 'sandia', 'Kiwi', 'Aguacate', 'Mango', 'Platano']\n",
            "['Melón', 'sandia', 'Kiwi', 'Aguacate', 'Mango', 'Platano']\n",
            "['Melón', 'Sandia', 'Kiwi', 'Aguacate', 'Mango', 'Platano']\n"
          ],
          "name": "stdout"
        }
      ]
    },
    {
      "cell_type": "code",
      "metadata": {
        "colab": {
          "base_uri": "https://localhost:8080/"
        },
        "id": "sYAWZmzLJe_5",
        "outputId": "d920b7e0-d2ca-41dc-e4af-93f910c2669a"
      },
      "source": [
        "# Las listas son clases por lo tanto tienen metodos \r\n",
        "\r\n",
        "frutas.append(\"Fresa\")# Ejemplo: .append (Elemento al final)\r\n",
        "print(frutas)\r\n",
        "frutas= [\"melon\",\"sandia\",\"Kiwi\",\"Aguacate\",\"Mango\",\"Platano\"]\r\n",
        "print(\"Ejemplos de copias\")\r\n",
        "otras_frutas=frutas.copy()\r\n",
        "print(frutas)\r\n",
        "print(otras_frutas)\r\n",
        "\r\n",
        "otras_frutas[0]=\"chico zapote\"\r\n",
        "print(otras_frutas)\r\n",
        "\r\n",
        "print(\"Ejemplo de extend()\")\r\n",
        "colores=[\"Rojo\",\"Verde\",\"Azul\"]\r\n",
        "frutas.extend(colores) # Agregar los datos como datos independientes dentro de otra lista\r\n",
        "print(frutas)\r\n",
        "print(\"Ejemplo .insert()\")\r\n",
        "print(f\"Tamaño de la lista= {len(frutas)}\")\r\n",
        "frutas.insert(3,\"Limón\") # Para agregar un dato en alguna posicion especifica\r\n",
        "print(f\"Tamaño de la lista= {len(frutas)}\")\r\n",
        "print(frutas)\r\n",
        "\r\n",
        "print(\"Ejemplo .remove(), eliminar el kiwi\")\r\n",
        "frutas.remove(\"Kiwi\") # Para poder eliminar un dato en especifico\r\n",
        "print(frutas)\r\n",
        "\r\n",
        "print(\"Ejemplo con del()\")\r\n",
        "del frutas[2] # Operador de lista\r\n",
        "print(frutas)\r\n",
        "\r\n",
        "print(\"-------------\")\r\n",
        "\r\n",
        "frutas.clear() # Limpias por completo la lista\r\n",
        "print(frutas)"
      ],
      "execution_count": 13,
      "outputs": [
        {
          "output_type": "stream",
          "text": [
            "['Melón', 'Sandia', 'Kiwi', 'Aguacate', 'Mango', 'Platano', 'Fresa']\n",
            "Ejemplos de copias\n",
            "['melon', 'sandia', 'Kiwi', 'Aguacate', 'Mango', 'Platano']\n",
            "['melon', 'sandia', 'Kiwi', 'Aguacate', 'Mango', 'Platano']\n",
            "['chico zapote', 'sandia', 'Kiwi', 'Aguacate', 'Mango', 'Platano']\n",
            "Ejemplo de extend()\n",
            "['melon', 'sandia', 'Kiwi', 'Aguacate', 'Mango', 'Platano', 'Rojo', 'Verde', 'Azul']\n",
            "Ejemplo .insert()\n",
            "Tamaño de la lista= 9\n",
            "Tamaño de la lista= 10\n",
            "['melon', 'sandia', 'Kiwi', 'Limón', 'Aguacate', 'Mango', 'Platano', 'Rojo', 'Verde', 'Azul']\n",
            "Ejemplo .remove(), eliminar el kiwi\n",
            "['melon', 'sandia', 'Limón', 'Aguacate', 'Mango', 'Platano', 'Rojo', 'Verde', 'Azul']\n",
            "Ejemplo con del()\n",
            "['melon', 'sandia', 'Aguacate', 'Mango', 'Platano', 'Rojo', 'Verde', 'Azul']\n",
            "-------------\n",
            "[]\n"
          ],
          "name": "stdout"
        }
      ]
    },
    {
      "cell_type": "code",
      "metadata": {
        "colab": {
          "base_uri": "https://localhost:8080/"
        },
        "id": "Zhytl3dNJiNA",
        "outputId": "ce8c86b1-abe0-421c-9ea1-2d3e810277d5"
      },
      "source": [
        "# Slicing sobre listas\r\n",
        "\r\n",
        "frutas= [\"melon\",\"sandia\",\"Kiwi\",\"Aguacate\",\"Mango\",\"Platano\"]\r\n",
        "print(frutas[1:4])\r\n",
        "\r\n",
        "sist_operativos= [\"Windows\",\"Mac OS\", \"Linux\", \"Android\"]\r\n",
        "autos=[\"Ford\" ,\"Mazda\" ,\"Honda\"]\r\n",
        "\r\n",
        "cosas=[sist_operativos,autos]\r\n",
        "print(cosas)\r\n",
        "print(cosas[1])\r\n",
        "print(cosas[1][2])\r\n",
        "print(cosas[0][2])\r\n",
        "print(cosas[0][3][2:5:])\r\n",
        "print(cosas[1][1][-2:-5:-1])"
      ],
      "execution_count": 14,
      "outputs": [
        {
          "output_type": "stream",
          "text": [
            "['sandia', 'Kiwi', 'Aguacate']\n",
            "[['Windows', 'Mac OS', 'Linux', 'Android'], ['Ford', 'Mazda', 'Honda']]\n",
            "['Ford', 'Mazda', 'Honda']\n",
            "Honda\n",
            "Linux\n",
            "dro\n",
            "dza\n"
          ],
          "name": "stdout"
        }
      ]
    }
  ]
}