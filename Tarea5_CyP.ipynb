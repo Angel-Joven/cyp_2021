{
  "nbformat": 4,
  "nbformat_minor": 0,
  "metadata": {
    "colab": {
      "name": "Tarea5_CyP.ipynb",
      "provenance": [],
      "authorship_tag": "ABX9TyNOoIXr2YjfN6SIlM2Sdjge",
      "include_colab_link": true
    },
    "kernelspec": {
      "name": "python3",
      "display_name": "Python 3"
    }
  },
  "cells": [
    {
      "cell_type": "markdown",
      "metadata": {
        "id": "view-in-github",
        "colab_type": "text"
      },
      "source": [
        "<a href=\"https://colab.research.google.com/github/Angel-Joven/cyp_2021/blob/main/Tarea5_CyP.ipynb\" target=\"_parent\"><img src=\"https://colab.research.google.com/assets/colab-badge.svg\" alt=\"Open In Colab\"/></a>"
      ]
    },
    {
      "cell_type": "code",
      "metadata": {
        "colab": {
          "base_uri": "https://localhost:8080/"
        },
        "id": "7zHunru-83ec",
        "outputId": "aba5b4ba-73db-4f98-9c73-f02a8922be34"
      },
      "source": [
        "#Ejemplo 3.1 (Sin FOR)\n",
        "\n",
        "SUELDO1 = 0\n",
        "SUELDO2 = 0\n",
        "SUELDO3 = 0\n",
        "SUELDO4 = 0\n",
        "SUELDO5 = 0\n",
        "SUELDO6 = 0\n",
        "SUELDO7 = 0\n",
        "SUELDO8 = 0\n",
        "SUELDO9 = 0\n",
        "SUELDO10 = 0\n",
        "NOMINA = 0\n",
        "\n",
        "SUELDO1 = float(input(\"ingrese el Sueldo 1:$ \"))\n",
        "SUELDO2 = float(input(\"ingrese el Sueldo 2:$ \"))\n",
        "SUELDO3 = float(input(\"ingrese el Sueldo 3:$ \"))\n",
        "SUELDO4 = float(input(\"ingrese el Sueldo 4:$ \"))\n",
        "SUELDO5 = float(input(\"ingrese el Sueldo 5:$ \"))\n",
        "SUELDO6 = float(input(\"ingrese el Sueldo 6:$ \"))\n",
        "SUELDO7 = float(input(\"ingrese el Sueldo 7:$ \"))\n",
        "SUELDO8 = float(input(\"ingrese el Sueldo 8:$ \"))\n",
        "SUELDO9 = float(input(\"ingrese el Sueldo 9:$ \"))\n",
        "SUELDO10 = float(input(\"ingrese el Sueldo 10:$ \"))\n",
        "\n",
        "NOMINA = SUELDO1 + SUELDO2 + SUELDO3 + SUELDO4 + SUELDO5 + SUELDO6 + SUELDO7 + SUELDO8 + SUELDO9 + SUELDO10\n",
        "\n",
        "print(\"La nomina es de:$\", NOMINA)\n"
      ],
      "execution_count": 2,
      "outputs": [
        {
          "output_type": "stream",
          "text": [
            "ingrese el Sueldo 1:$ 1500\n",
            "ingrese el Sueldo 2:$ 890\n",
            "ingrese el Sueldo 3:$ 700\n",
            "ingrese el Sueldo 4:$ 950\n",
            "ingrese el Sueldo 5:$ 2300\n",
            "ingrese el Sueldo 6:$ 1650\n",
            "ingrese el Sueldo 7:$ 1800\n",
            "ingrese el Sueldo 8:$ 1400\n",
            "ingrese el Sueldo 9:$ 760\n",
            "ingrese el Sueldo 10:$ 900\n",
            "La nomina es de:$ 12850.0\n"
          ],
          "name": "stdout"
        }
      ]
    },
    {
      "cell_type": "code",
      "metadata": {
        "colab": {
          "base_uri": "https://localhost:8080/"
        },
        "id": "sJer61hNPA_k",
        "outputId": "40de29c5-6103-4184-f563-575c856dfd1f"
      },
      "source": [
        "#Ejemplo 3.1 (Con FOR)\n",
        "\n",
        "SUELDO = 0\n",
        "NOMINA = 0\n",
        "\n",
        "for i in range(1, 11):\n",
        "  SUELDO = float(input(f\"ingrese el Sueldo {i}:$ \"))\n",
        "  NOMINA = SUELDO + NOMINA\n",
        "\n",
        "print(\"La nomina es de:$\", NOMINA)\n"
      ],
      "execution_count": 3,
      "outputs": [
        {
          "output_type": "stream",
          "text": [
            "ingrese el Sueldo 1:$ 1500\n",
            "ingrese el Sueldo 2:$ 890\n",
            "ingrese el Sueldo 3:$ 700\n",
            "ingrese el Sueldo 4:$ 950\n",
            "ingrese el Sueldo 5:$ 2300\n",
            "ingrese el Sueldo 6:$ 1650\n",
            "ingrese el Sueldo 7:$ 1800\n",
            "ingrese el Sueldo 8:$ 1400\n",
            "ingrese el Sueldo 9:$ 760\n",
            "ingrese el Sueldo 10:$ 900\n",
            "La nomina es de:$ 12850.0\n"
          ],
          "name": "stdout"
        }
      ]
    },
    {
      "cell_type": "code",
      "metadata": {
        "colab": {
          "base_uri": "https://localhost:8080/"
        },
        "id": "KRT-wC7CQe7k",
        "outputId": "7aac5201-1e7b-42e0-eaff-42b8bacffec9"
      },
      "source": [
        "#Ejemplo 3.4\n",
        "\n",
        "GASTO = 0\n",
        "SUMAGASTOS = 0\n",
        "\n",
        "print(\"CUANDO HAYA TERMINADO DE INGRESAR SUS GASTOS, POR FAVOR INGRESE '-1'\")\n",
        "\n",
        "GASTO = float(input(\"Ingrese su gasto:$ \"))\n",
        "while GASTO > -1:\n",
        "  SUMAGASTOS = SUMAGASTOS + GASTO\n",
        "  GASTO = float(input(\"Ingrese su gasto:$ \"))\n",
        "\n",
        "print(\"La suma de sus gastos son:$\", SUMAGASTOS)\n"
      ],
      "execution_count": 11,
      "outputs": [
        {
          "output_type": "stream",
          "text": [
            "CUANDO HAYA TERMINADO DE INGRESAR SUS GASTOS, POR FAVOR INGRESE '-1'\n",
            "Ingrese su gasto:$ 2528\n",
            "Ingrese su gasto:$ 3500\n",
            "Ingrese su gasto:$ 1600\n",
            "Ingrese su gasto:$ 1850\n",
            "Ingrese su gasto:$ 150\n",
            "Ingrese su gasto:$ -1\n",
            "La suma de sus gastos son:$ 9628.0\n"
          ],
          "name": "stdout"
        }
      ]
    }
  ]
}