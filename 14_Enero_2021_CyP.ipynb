{
  "nbformat": 4,
  "nbformat_minor": 0,
  "metadata": {
    "colab": {
      "name": "14_Enero_2021_CyP.ipynb",
      "provenance": [],
      "authorship_tag": "ABX9TyOF5+OrkUEdVShaq9ibbI1A",
      "include_colab_link": true
    },
    "kernelspec": {
      "name": "python3",
      "display_name": "Python 3"
    }
  },
  "cells": [
    {
      "cell_type": "markdown",
      "metadata": {
        "id": "view-in-github",
        "colab_type": "text"
      },
      "source": [
        "<a href=\"https://colab.research.google.com/github/Angel-Joven/cyp_2021/blob/main/14_Enero_2021_CyP.ipynb\" target=\"_parent\"><img src=\"https://colab.research.google.com/assets/colab-badge.svg\" alt=\"Open In Colab\"/></a>"
      ]
    },
    {
      "cell_type": "markdown",
      "metadata": {
        "id": "wG-UUR9e5BIZ"
      },
      "source": [
        "# Palabras reservadas en Python 3\r\n",
        "\r\n",
        "1. False\r\n",
        "1. None\r\n",
        "1. True\r\n",
        "1. and\r\n",
        "1. as\r\n",
        "1. assert\r\n",
        "1. break\r\n",
        "1. class\r\n",
        "1. continue\r\n",
        "1. def\r\n",
        "1. del\r\n",
        "1. elif\r\n",
        "1. else\r\n",
        "1. except\r\n",
        "1. finally\r\n",
        "1. for\r\n",
        "1. from\r\n",
        "1. global\r\n",
        "1. if\r\n",
        "1. import\r\n",
        "1. in\r\n",
        "1. is\r\n",
        "1. lambda\r\n",
        "1. nonlocal\r\n",
        "1. not\r\n",
        "1. or\r\n",
        "1. pass\r\n",
        "1. raise\r\n",
        "1. return\r\n",
        "1. try\r\n",
        "1. while\r\n",
        "1. with\r\n",
        "1. yield\r\n",
        "\r\n"
      ]
    },
    {
      "cell_type": "code",
      "metadata": {
        "colab": {
          "base_uri": "https://localhost:8080/"
        },
        "id": "Cp7KyfQC5ZJK",
        "outputId": "89af4a8e-6d00-4509-8065-f35452ad1151"
      },
      "source": [
        "import keyword\r\n",
        "pr = keyword.kwlist\r\n",
        "print(len(pr))\r\n",
        "for palabra in pr:\r\n",
        "  print(\"1.\", palabra)"
      ],
      "execution_count": 7,
      "outputs": [
        {
          "output_type": "stream",
          "text": [
            "33\n",
            "1. False\n",
            "1. None\n",
            "1. True\n",
            "1. and\n",
            "1. as\n",
            "1. assert\n",
            "1. break\n",
            "1. class\n",
            "1. continue\n",
            "1. def\n",
            "1. del\n",
            "1. elif\n",
            "1. else\n",
            "1. except\n",
            "1. finally\n",
            "1. for\n",
            "1. from\n",
            "1. global\n",
            "1. if\n",
            "1. import\n",
            "1. in\n",
            "1. is\n",
            "1. lambda\n",
            "1. nonlocal\n",
            "1. not\n",
            "1. or\n",
            "1. pass\n",
            "1. raise\n",
            "1. return\n",
            "1. try\n",
            "1. while\n",
            "1. with\n",
            "1. yield\n"
          ],
          "name": "stdout"
        }
      ]
    },
    {
      "cell_type": "markdown",
      "metadata": {
        "id": "RGDSncVt67dZ"
      },
      "source": [
        "## Variable\r\n",
        "Es un espacio de memoria de la computadora para almacenar valores que cambian a lo largo de la ejecucion del programa. Este espacio de memoria esta referenciado por un identificador, el cual tienen ciertas reglas de nombrado.\r\n",
        "- No puede iniciar con numero\r\n",
        "- No debe ser igual a alguna de las palabras reservadas\r\n",
        "- Puede iniciar con guion bajo\r\n",
        "- Evitar nombres de variables largos\r\n",
        "- Evitar muy cortos, ejemplo: x, y, i\r\n",
        "- Usar notacion snake_case\r\n",
        "\r\n"
      ]
    },
    {
      "cell_type": "code",
      "metadata": {
        "colab": {
          "base_uri": "https://localhost:8080/"
        },
        "id": "dsS6JxFN74nm",
        "outputId": "b353d4da-1221-4591-fd30-7c456787cf51"
      },
      "source": [
        "_2edad = 12\r\n",
        "print(_2edad)\r\n",
        "\r\n",
        "\"\"\"\r\n",
        "No se puede usar una palabra reservada como identificador de variable;\r\n",
        "\r\n",
        "for = 12\r\n",
        "print(for)\r\n",
        "\r\n",
        "\"\"\"\r\n",
        "_2edad\r\n",
        "# Snake case\r\n",
        "dias_de_la_semana = 7\r\n",
        "print(dias_de_la_semana)\r\n",
        "\r\n",
        "# Lower camel case\r\n",
        "diasDeLaSemana = 7\r\n",
        "\r\n",
        "# Upper camel case\r\n",
        "SemanaSanta = 23\r\n",
        "\r\n"
      ],
      "execution_count": 15,
      "outputs": [
        {
          "output_type": "stream",
          "text": [
            "12\n",
            "7\n"
          ],
          "name": "stdout"
        }
      ]
    },
    {
      "cell_type": "code",
      "metadata": {
        "id": "MF-fznvB8ocK"
      },
      "source": [
        "\"\"\"\r\n",
        "La notacion snake case consta de formar el identificador de variable\r\n",
        "separando las palabras del mismo con un guion bajo.\r\n",
        "\r\n",
        "Se recomienda que los identificadores se escriban en minusculas para las variables\r\n",
        "y en mayusculas para las constantes.\r\n",
        "\r\n",
        "Es decir si tenemos una variable para los dias de la semana, se escribiria asi:\r\n",
        "\r\n",
        "dias_de_la_semana = 7\r\n",
        "dias_mes = 31\r\n",
        "limite_maximo = 100\r\n",
        "\r\n",
        "\r\n",
        "\"\"\""
      ],
      "execution_count": null,
      "outputs": []
    },
    {
      "cell_type": "markdown",
      "metadata": {
        "id": "HfqOwtmY9-ot"
      },
      "source": [
        "# Tipos de datos\r\n",
        "- Numericos\r\n",
        "  - int (1, 2, 23454, etc.)\r\n",
        "  - float 4 bytes (1.14, 3.1416, 1.0)\r\n",
        "  - long 8 bytes (1, 2, 23454, etc.)\r\n",
        "  - complex 3 + 2j (Raices negativas)\r\n",
        "- Boolean: True o False\r\n",
        "- String cadenas de caracteres (\"cad\", 'cad' o \"\"\"cad\"\"\")\r\n",
        "- Listas ([1,2,3,4], [a,b,1,2,3])\r\n",
        "- Tuplas ((edad, 23), (3,4))\r\n",
        "- Conjuntos\r\n",
        "- Diccionarios ({\"nombre\":\"Juan\"})\r\n"
      ]
    },
    {
      "cell_type": "markdown",
      "metadata": {
        "id": "ml79clUPECH1"
      },
      "source": [
        "# Tipo de dato String\r\n",
        "\r\n",
        "Este tipo de dato permite almacenar cadenas de caracteres, como por ejemplo:\r\n",
        "\r\n",
        "```\r\n",
        "nombre = 'Jesus'\r\n",
        "lugar_nacimiento = 'Mexico D.F., Tacuba'\r\n",
        "frase_favorita = \"\"\"\r\n",
        "El conocimiento\r\n",
        "me persigue,\r\n",
        "pero...\r\n",
        "yo soy mas rapido!!!\r\n",
        ":)\r\n",
        "\"\"\"\r\n",
        "```\r\n",
        "\r\n"
      ]
    },
    {
      "cell_type": "code",
      "metadata": {
        "colab": {
          "base_uri": "https://localhost:8080/"
        },
        "id": "ztHIJ_FTFIv0",
        "outputId": "22bf2bda-e205-4dae-87ba-e6446877f837"
      },
      "source": [
        "nombre = 'Jesus'\r\n",
        "lugar_nacimiento = 'Mexico D.F., Tacuba'\r\n",
        "frase_favorita = \"\"\"\r\n",
        "El conocimiento\r\n",
        "me persigue,\r\n",
        "pero...\r\n",
        "yo soy mas rapido!!!\r\n",
        ":)\r\n",
        "\"\"\"\r\n",
        "\r\n",
        "print(nombre)\r\n",
        "print(lugar_nacimiento)\r\n",
        "print(frase_favorita)"
      ],
      "execution_count": 16,
      "outputs": [
        {
          "output_type": "stream",
          "text": [
            "Jesus\n",
            "Mexico D.F., Tacuba\n",
            "\n",
            "El conocimiento\n",
            "me persigue,\n",
            "pero...\n",
            "yo soy mas rapido!!!\n",
            ":)\n",
            "\n"
          ],
          "name": "stdout"
        }
      ]
    },
    {
      "cell_type": "markdown",
      "metadata": {
        "id": "yZHPdtLRFlDc"
      },
      "source": [
        "# Strings como arreglo\r\n",
        "Un string en python es almacenado como el tipo de dato (estructura de datos) arreglo.\r\n",
        "\r\n",
        "Por ejemplo la declaracion:\r\n",
        "\r\n",
        "```\r\n",
        "nombre = 'Jesus'\r\n",
        "```\r\n",
        "El elemento 'J' es almacenado en un arreglo en la posicion 0.\r\n",
        "La 'e' en la 1 y asi sucesivamente.\r\n",
        "\r\n",
        "### Selector\r\n",
        "La notacion para seleccionar un elemento del arreglo es:\r\n",
        "\r\n",
        "```\r\n",
        "[ 1 ]\r\n",
        "```\r\n",
        "Donde el valor interno debe ser un valor numerico entero.\r\n",
        "\r\n"
      ]
    },
    {
      "cell_type": "code",
      "metadata": {
        "colab": {
          "base_uri": "https://localhost:8080/"
        },
        "id": "iW0cisxaGIuj",
        "outputId": "13006691-e8d0-492c-d7e7-289e5d25e76e"
      },
      "source": [
        "nombre = 'Jesus'\r\n",
        "print(len(nombre))\r\n",
        "print(nombre)\r\n",
        "print(nombre[0])\r\n",
        "print(nombre[3])"
      ],
      "execution_count": 19,
      "outputs": [
        {
          "output_type": "stream",
          "text": [
            "5\n",
            "Jesus\n",
            "J\n",
            "u\n"
          ],
          "name": "stdout"
        }
      ]
    },
    {
      "cell_type": "markdown",
      "metadata": {
        "id": "AXwtT8bSHEdH"
      },
      "source": [
        "# Iterar sobre un String\r\n",
        "\r\n",
        "Se puede iterar sobre un String con un for de la forma:\r\n",
        "\r\n",
        "```\r\n",
        "for letra in range(len(nombre)):\r\n",
        "  print(letra)\r\n",
        "```\r\n",
        "\r\n",
        "\r\n"
      ]
    },
    {
      "cell_type": "code",
      "metadata": {
        "colab": {
          "base_uri": "https://localhost:8080/"
        },
        "id": "RtX00tp8IfbN",
        "outputId": "1bb9e15c-71d4-4f56-ce7c-eacd088754df"
      },
      "source": [
        "for indice in range(len(nombre)): #0, 1, 2, 3, 4\r\n",
        "  print(indice, end = \" \")\r\n",
        "  print(nombre[indice])"
      ],
      "execution_count": 22,
      "outputs": [
        {
          "output_type": "stream",
          "text": [
            "0 J\n",
            "1 e\n",
            "2 s\n",
            "3 u\n",
            "4 s\n"
          ],
          "name": "stdout"
        }
      ]
    },
    {
      "cell_type": "markdown",
      "metadata": {
        "id": "QXaF-6tCJ9Tx"
      },
      "source": [
        "# Funcion range(inicio, stop, incremento)\r\n",
        "\r\n",
        "El inicio es opcional y por defecto tiene el valor 0.\r\n",
        "\r\n",
        "El incremento tambien es opcional y por defecto es 1"
      ]
    },
    {
      "cell_type": "code",
      "metadata": {
        "colab": {
          "base_uri": "https://localhost:8080/"
        },
        "id": "kIiyZsYlJzUI",
        "outputId": "1ce19cb2-87f7-4376-c7e2-aef9d9ca669c"
      },
      "source": [
        "for indice in range(1, len(nombre), 1):\r\n",
        "  print(nombre[indice])"
      ],
      "execution_count": 39,
      "outputs": [
        {
          "output_type": "stream",
          "text": [
            "e\n",
            "s\n",
            "u\n",
            "s\n"
          ],
          "name": "stdout"
        }
      ]
    },
    {
      "cell_type": "code",
      "metadata": {
        "colab": {
          "base_uri": "https://localhost:8080/"
        },
        "id": "Q1bVnwCELLUB",
        "outputId": "868a6bb2-fc54-4702-ec5d-90ab70673a80"
      },
      "source": [
        "for indice in range(4, -1, -1): #4, 3, 2, 1, 0\r\n",
        "  print(nombre[indice])"
      ],
      "execution_count": 41,
      "outputs": [
        {
          "output_type": "stream",
          "text": [
            "s\n",
            "u\n",
            "s\n",
            "e\n",
            "J\n"
          ],
          "name": "stdout"
        }
      ]
    },
    {
      "cell_type": "markdown",
      "metadata": {
        "id": "jT8diDxjMMMW"
      },
      "source": [
        "# Strings e indexado negativo\r\n",
        "En python 3 se agrega una nueva caracteristica a los arreglos de las cadenas de caracteres, esta consta de la capacidad de indexar de forma negativa.\r\n",
        "\r\n",
        "La logica es la siguiente:\r\n",
        "\r\n",
        "El ultimo elemento se le considera como indice (ALTERNATIVO) -1, con lo cual se podra referenciar el final de la cadena sin la necesidad de saber el tamaño de la misma.\r\n",
        "\r\n",
        "```\r\n",
        "nombre = \"Angel\"\r\n",
        "\r\n",
        "Indice normal 0 1 2 3 4\r\n",
        "\r\n",
        "              A n g e l\r\n",
        "\r\n",
        "indice alter -5-4-3-2-1\r\n",
        "```\r\n"
      ]
    },
    {
      "cell_type": "code",
      "metadata": {
        "colab": {
          "base_uri": "https://localhost:8080/"
        },
        "id": "Q-X8KCtrMkcK",
        "outputId": "74a531a1-2b84-421a-ce7e-dddfdaa3a13a"
      },
      "source": [
        "nombre = \"Angel\"\r\n",
        "print(nombre[3]) #Indexado normal\r\n",
        "print(nombre[-2]) #Indexado alternativo (negativos)\r\n",
        "print(\"\")\r\n",
        "for indice_alter in range(-1, -6, -1):\r\n",
        "  print(nombre[indice_alter])"
      ],
      "execution_count": 47,
      "outputs": [
        {
          "output_type": "stream",
          "text": [
            "e\n",
            "e\n",
            "\n",
            "l\n",
            "e\n",
            "g\n",
            "n\n",
            "A\n"
          ],
          "name": "stdout"
        }
      ]
    },
    {
      "cell_type": "markdown",
      "metadata": {
        "id": "rtq6L7oDP2LU"
      },
      "source": [
        "# Slicing de cadenas de caracteres\r\n",
        "\r\n",
        "Esta caracteristica permite sacar secciones de una cadena con la siguiente sintaxis:\r\n",
        "\r\n",
        "```\r\n",
        "[inicio : stop : incremento]\r\n",
        "```\r\n",
        "\r\n",
        "Donde inicio e incremento son opcionales y tambien soportan indexado alternativo (negativos)."
      ]
    },
    {
      "cell_type": "code",
      "metadata": {
        "colab": {
          "base_uri": "https://localhost:8080/"
        },
        "id": "2wuVgFjUQfJ3",
        "outputId": "9c2868c0-0792-47df-f8d3-f373fa0dcb2e"
      },
      "source": [
        "facultad = \"Facultad de Estudios Superiores Aragon (La mejor)\"\r\n",
        "print(facultad)\r\n",
        "for indice in range( 12, 20, 1):\r\n",
        "  print(facultad[indice], end = \"\")\r\n",
        "\r\n",
        "#Hacer esto mismo con la caracteristica Slicing se logra asi:\r\n",
        "print(\"\")\r\n",
        "print(\"\\nCon Slicing:\")\r\n",
        "print(facultad[12:20:1])\r\n",
        "print(\"\")\r\n",
        "\r\n",
        "#La palabra 'de' con slicing\r\n",
        "print(\"La palabra 'de' con slicing\")\r\n",
        "print(facultad[9:11:1])\r\n",
        "print(\"\")\r\n"
      ],
      "execution_count": 97,
      "outputs": [
        {
          "output_type": "stream",
          "text": [
            "Facultad de Estudios Superiores Aragon (La mejor)\n",
            "Estudios\n",
            "\n",
            "Con Slicing:\n",
            "Estudios\n",
            "\n",
            "La palabra 'de' con slicing\n",
            "de\n",
            "\n"
          ],
          "name": "stdout"
        }
      ]
    }
  ]
}