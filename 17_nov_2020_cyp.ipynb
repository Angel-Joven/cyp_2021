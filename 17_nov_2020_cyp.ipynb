{
  "nbformat": 4,
  "nbformat_minor": 0,
  "metadata": {
    "colab": {
      "name": "17_nov_2020_cyp.ipynb",
      "provenance": [],
      "authorship_tag": "ABX9TyOnfetc70JM1PpOCH6XtcL9",
      "include_colab_link": true
    },
    "kernelspec": {
      "name": "python3",
      "display_name": "Python 3"
    }
  },
  "cells": [
    {
      "cell_type": "markdown",
      "metadata": {
        "id": "view-in-github",
        "colab_type": "text"
      },
      "source": [
        "<a href=\"https://colab.research.google.com/github/Angel-Joven/cyp_2021/blob/main/17_nov_2020_cyp.ipynb\" target=\"_parent\"><img src=\"https://colab.research.google.com/assets/colab-badge.svg\" alt=\"Open In Colab\"/></a>"
      ]
    },
    {
      "cell_type": "code",
      "metadata": {
        "colab": {
          "base_uri": "https://localhost:8080/"
        },
        "id": "cX1NiqV-SGEv",
        "outputId": "5e963b31-6f01-4b6d-e0f6-426bd961461e"
      },
      "source": [
        "edad = 15\n",
        "estatura = 1.67\n",
        "a = 10\n",
        "b = 3\n",
        "\n",
        "c = 2 ** b + 2 + 3 + 4\n",
        "\n",
        "print(c)\n",
        "\n",
        "e = estatura * 2.0\n",
        "print(e)\n",
        "\n",
        "f = a / b # En python se hace el calculo exacto\n",
        "print(f) # 3.3333\n",
        "\n",
        "# Tambien podermos forzar el calculo de enteros\n",
        "g = a // b\n",
        "print(\"g=\",g)\n",
        "\n",
        "h = a % b\n",
        "print(\"h =\", h)\n",
        "\n",
        "num = 11\n",
        "print(\"Es par num ?\", (num % 2) == 0)\n"
      ],
      "execution_count": 12,
      "outputs": [
        {
          "output_type": "stream",
          "text": [
            "17\n",
            "3.34\n",
            "3.3333333333333335\n",
            "g= 3\n",
            "h = 1\n",
            "Es par num ? False\n"
          ],
          "name": "stdout"
        }
      ]
    },
    {
      "cell_type": "code",
      "metadata": {
        "colab": {
          "base_uri": "https://localhost:8080/"
        },
        "id": "pSevZXR5W5Lg",
        "outputId": "0566369b-47d1-4be8-dfb1-765dbb255d90"
      },
      "source": [
        "ecuacion = 9 + 7 * 8 - 36 / 5 # 9 + 56 - 7.2 -> 65 - 7.2\n",
        "print(ecuacion)\n",
        "\n",
        "ecuacion = 0\n",
        "ecuacion = (9 + 7) * 8 - 36 / 5 # 128 - 7.2\n",
        "print(ecuacion)\n",
        "\n",
        "ecuacion = 9 + 7 * (8 - 36) / 5 #\n",
        "print(ecuacion)"
      ],
      "execution_count": 19,
      "outputs": [
        {
          "output_type": "stream",
          "text": [
            "57.8\n",
            "120.8\n",
            "-30.200000000000003\n"
          ],
          "name": "stdout"
        }
      ]
    },
    {
      "cell_type": "code",
      "metadata": {
        "colab": {
          "base_uri": "https://localhost:8080/"
        },
        "id": "yb1UI7Ytb9Ws",
        "outputId": "43ed2361-0d3d-4433-ae64-24cebe4e8cf2"
      },
      "source": [
        "# Operadores logicos --> True y False\n",
        "\n",
        "x = 5\n",
        "y = 4\n",
        "\n",
        "valor = (x == y) # Son iguales ?? --> Falso\n",
        "print(valor)\n",
        "\n",
        "valor = (x != y) # Son diferentes ?? --> Verdadero\n",
        "print(valor)\n",
        "\n",
        "valor = (x<y) # X es menor que y ?? --> Falso\n",
        "print(valor)\n",
        "\n",
        "valor = (x>y) # X es MAYOR que y ?? --> Verdadero\n",
        "print(valor)\n",
        "\n",
        "y = 5\n",
        "valor = (x<=y) # X es menor o igual que y ?? --> Verdadero\n",
        "print(valor)\n",
        "\n",
        "y = 5\n",
        "valor = (x>=y) # X es MAYOR o igual que y ?? --> Verdadero\n",
        "print(valor)"
      ],
      "execution_count": 30,
      "outputs": [
        {
          "output_type": "stream",
          "text": [
            "False\n",
            "True\n",
            "False\n",
            "True\n",
            "True\n",
            "True\n"
          ],
          "name": "stdout"
        }
      ]
    },
    {
      "cell_type": "code",
      "metadata": {
        "colab": {
          "base_uri": "https://localhost:8080/"
        },
        "id": "XtWKmr4Efdw0",
        "outputId": "5d6f7cb6-8655-4648-f492-7385af310dc9"
      },
      "source": [
        "costo_chetos = 7.0\n",
        "tienda_abierta = True\n",
        "capital_en_bolsa = 10.0\n",
        "\n",
        "se_compra = (costo_chetos < capital_en_bolsa) and (tienda_abierta == True)\n",
        "print(se_compra)\n",
        "\n"
      ],
      "execution_count": 34,
      "outputs": [
        {
          "output_type": "stream",
          "text": [
            "True\n"
          ],
          "name": "stdout"
        }
      ]
    }
  ]
}