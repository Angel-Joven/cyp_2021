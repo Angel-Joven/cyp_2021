{
  "nbformat": 4,
  "nbformat_minor": 0,
  "metadata": {
    "colab": {
      "name": "Tarea3_CyP.ipynb",
      "provenance": [],
      "authorship_tag": "ABX9TyOxlsLE0bstbUBfKOM2zDPh",
      "include_colab_link": true
    },
    "kernelspec": {
      "name": "python3",
      "display_name": "Python 3"
    }
  },
  "cells": [
    {
      "cell_type": "markdown",
      "metadata": {
        "id": "view-in-github",
        "colab_type": "text"
      },
      "source": [
        "<a href=\"https://colab.research.google.com/github/Angel-Joven/cyp_2021/blob/main/Tarea3_CyP.ipynb\" target=\"_parent\"><img src=\"https://colab.research.google.com/assets/colab-badge.svg\" alt=\"Open In Colab\"/></a>"
      ]
    },
    {
      "cell_type": "code",
      "metadata": {
        "colab": {
          "base_uri": "https://localhost:8080/"
        },
        "id": "cI3gQr7etndG",
        "outputId": "d3cdf1b8-1484-43a6-d3e7-49160f3dd0bc"
      },
      "source": [
        "# Problema 1.1\n",
        "\n",
        "PREPO = 0.0\n",
        "PAGO = 0.0\n",
        "DEVO = 0.0\n",
        "\n",
        "PREPO = float(input(\"Escriba el precio del producto: \"))\n",
        "PAGO = float(input(\"Escriba la cantidad con la que va a pagar: \"))\n",
        "\n",
        "DEVO = (PAGO - PREPO) # Obtener el cambio\n",
        "\n",
        "print(\"Su cambio es de: \")\n",
        "print(DEVO)\n"
      ],
      "execution_count": 70,
      "outputs": [
        {
          "output_type": "stream",
          "text": [
            "Escriba el precio del producto: 1.68\n",
            "Escriba la cantidad con la que va a pagar: 5\n",
            "Su cambio es de: \n",
            "3.3200000000000003\n"
          ],
          "name": "stdout"
        }
      ]
    },
    {
      "cell_type": "code",
      "metadata": {
        "colab": {
          "base_uri": "https://localhost:8080/"
        },
        "id": "S7AouOOj6Tm1",
        "outputId": "d09884bd-7f45-46a4-b484-8c24bcb6b579"
      },
      "source": [
        "# Problema 1.2\n",
        "\n",
        "BASE = 0.0\n",
        "ALTURA = 0.0\n",
        "AREA = 0.0\n",
        "\n",
        "BASE = float(input(\"Dame la medida de la base del triangulo: \"))\n",
        "ALTURA = float(input(\"Dame la medida de la altura del triangulo: \"))\n",
        "\n",
        "AREA = (BASE*ALTURA)/ 2 # Formula para sacar el Area del Triangulo\n",
        "\n",
        "print(\"El area del Triangulo es: \")\n",
        "print(AREA)\n"
      ],
      "execution_count": 71,
      "outputs": [
        {
          "output_type": "stream",
          "text": [
            "Dame la medida de la base del triangulo: 120.60\n",
            "Dame la medida de la altura del triangulo: 85.90\n",
            "El area del Triangulo es: \n",
            "5179.77\n"
          ],
          "name": "stdout"
        }
      ]
    },
    {
      "cell_type": "code",
      "metadata": {
        "colab": {
          "base_uri": "https://localhost:8080/"
        },
        "id": "AQ0OX4wb7ABD",
        "outputId": "b7ddfb6d-9f55-467f-b33f-be76c8e1e9bc"
      },
      "source": [
        "# Problema 1.3\n",
        "\n",
        "PESO = 0.0\n",
        "LONGITUD = 0.0\n",
        "\n",
        "Nombre_Dinosaurio = input(\"Escriba el nombre de su dinosaurio: \")\n",
        "PESO = float(input(\"Escriba el peso (en kilogramos) de su dinosaurio: \"))\n",
        "LONGITUD = float(input(\"Escriba la longitud (En metros) de su dinosaurio: \"))\n",
        "\n",
        "PESO = (PESO * 1000) # Conversion del peso a Libras\n",
        "LONGITUD = (LONGITUD * 0.3047) #Conversion de la longitud a Pies\n",
        "\n",
        "print(\"Su dinosaurio se llama: \") # Nombre del dinosaurio ingresado\n",
        "print(Nombre_Dinosaurio)\n",
        "print(\"El peso de su dinosaurio en Libras es: \") # Peso convertido\n",
        "print(PESO)\n",
        "print(\"La longitud de su dinosaurio en Pies es: \") # Longitud Convertida\n",
        "print(LONGITUD)\n"
      ],
      "execution_count": 72,
      "outputs": [
        {
          "output_type": "stream",
          "text": [
            "Escriba el nombre de su dinosaurio: T - Rex\n",
            "Escriba el peso (en kilogramos) de su dinosaurio: 25\n",
            "Escriba la longitud (En metros) de su dinosaurio: 70\n",
            "Su dinosaurio se llama: \n",
            "T - Rex\n",
            "El peso de su dinosaurio en Libras es: \n",
            "25000.0\n",
            "La longitud de su dinosaurio en Pies es: \n",
            "21.329\n"
          ],
          "name": "stdout"
        }
      ]
    },
    {
      "cell_type": "code",
      "metadata": {
        "colab": {
          "base_uri": "https://localhost:8080/"
        },
        "id": "SfXeZF9O7ToL",
        "outputId": "101f1050-629b-42e0-d7ae-6165fe244216"
      },
      "source": [
        "# Problema 1.4\n",
        "\n",
        "GALONES = 0.0\n",
        "LITROS = 0.0\n",
        "TOTAL = 0.0\n",
        "\n",
        "GALONES = float(input(\"Inserte el numero de galones que va a llevar: \"))\n",
        "LITROS = (GALONES * 3.785) # Conversion de Galones a Litros\n",
        "TOTAL = (LITROS * 8.20) # Obtener el precio de los litros por el Precio Fijo\n",
        "\n",
        "print(\"Usted se va a llevar: \") # Galones ingresados\n",
        "print(GALONES, \"GALONES\")\n",
        "\n",
        "print(\"Se convertiran sus galones a litros: \") # Galones convertidos a Litros\n",
        "print(LITROS, \"LITROS\")\n",
        "\n",
        "print(\"El precio de cada LITRO es de $8.20, asi que usted pagaria en total: \") # Precio total de los litros\n",
        "print(TOTAL, \"LITROS\")\n"
      ],
      "execution_count": 73,
      "outputs": [
        {
          "output_type": "stream",
          "text": [
            "Inserte el numero de galones que va a llevar: 15.90\n",
            "Usted se va a llevar: \n",
            "15.9 GALONES\n",
            "Se convertiran sus galones a litros: \n",
            "60.18150000000001 LITROS\n",
            "El precio de cada LITRO es de $8.20, asi que usted pagaria en total: \n",
            "493.48830000000004 LITROS\n"
          ],
          "name": "stdout"
        }
      ]
    },
    {
      "cell_type": "code",
      "metadata": {
        "colab": {
          "base_uri": "https://localhost:8080/"
        },
        "id": "m95jOdlSE-5U",
        "outputId": "191342bf-d1e5-438c-ef83-14d6ffe4f1da"
      },
      "source": [
        "# Problema 1.5\n",
        "\n",
        "RADIO = 0.0\n",
        "ALTURA_CILINDRO = 0.0\n",
        "AREA = 0.0\n",
        "VOLUMEN = 0.0\n",
        "\n",
        "RADIO = float(input(\"Dame la medida del radio del cilindro: \"))\n",
        "ALTURA_CILINDRO = float(input(\"Dame la medida de la altura del cilindro: \"))\n",
        "\n",
        "AREA = (2 * 3.141592 * RADIO * ALTURA_CILINDRO) # Formula para obtener el Area del cilindro\n",
        "VOLUMEN = (3.141592 * (RADIO ** 2) * ALTURA_CILINDRO) # Formula para obtener el Volumen del cilindro\n",
        "\n",
        "print(\"El area del cilindro es: \") # Area obtenida\n",
        "print(AREA)\n",
        "\n",
        "print(\"El volumen del cilindro es: \") # Volumen Obtenido\n",
        "print(VOLUMEN)\n"
      ],
      "execution_count": 78,
      "outputs": [
        {
          "output_type": "stream",
          "text": [
            "Dame la medida del radio del cilindro: 85.90\n",
            "Dame la medida de la altura del cilindro: 237.20\n",
            "El area del cilindro es: \n",
            "128022.88992832\n",
            "El volumen del cilindro es: \n",
            "5498583.122421345\n"
          ],
          "name": "stdout"
        }
      ]
    },
    {
      "cell_type": "code",
      "metadata": {
        "colab": {
          "base_uri": "https://localhost:8080/"
        },
        "id": "ha5Ho840HXB7",
        "outputId": "c7aa9e9a-dd31-48c5-de54-c3715463c080"
      },
      "source": [
        "# Problema 1.6\n",
        "\n",
        "DIAS = 0\n",
        "SEGUNDOS = 0\n",
        "\n",
        "DIAS = int(input(\"Inserte el numero de dias: \"))\n",
        "\n",
        "SEGUNDOS = (DIAS * 24 * 60 * 60) # Covertir de dias a segundos\n",
        "\n",
        "print(\"Usted ingreso: \")\n",
        "print(DIAS, \"DIAS\")\n",
        "print(\"Asi que en\", DIAS, \"DIAS\", \"hay\", SEGUNDOS, \"SEGUNDOS\") # Conversion obtenida\n"
      ],
      "execution_count": 87,
      "outputs": [
        {
          "output_type": "stream",
          "text": [
            "Inserte el numero de dias: 7\n",
            "Usted ingreso: \n",
            "7 DIAS\n",
            "Asi que en 7 DIAS hay 604800 SEGUNDOS\n"
          ],
          "name": "stdout"
        }
      ]
    }
  ]
}