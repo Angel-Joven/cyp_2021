{
  "nbformat": 4,
  "nbformat_minor": 0,
  "metadata": {
    "colab": {
      "name": "12_Enero_2021_CyP.ipynb",
      "provenance": [],
      "authorship_tag": "ABX9TyPCzjnMdh3CFFfAsFxmXxhe",
      "include_colab_link": true
    },
    "kernelspec": {
      "name": "python3",
      "display_name": "Python 3"
    }
  },
  "cells": [
    {
      "cell_type": "markdown",
      "metadata": {
        "id": "view-in-github",
        "colab_type": "text"
      },
      "source": [
        "<a href=\"https://colab.research.google.com/github/Angel-Joven/cyp_2021/blob/main/12_Enero_2021_CyP.ipynb\" target=\"_parent\"><img src=\"https://colab.research.google.com/assets/colab-badge.svg\" alt=\"Open In Colab\"/></a>"
      ]
    },
    {
      "cell_type": "markdown",
      "metadata": {
        "id": "x7BtGFcfpYtk"
      },
      "source": [
        "#Introduccion a Python\r\n",
        "- Creado en los 90's por Guido Van R.\r\n",
        "- En el 2000 python mejora y tienen nuevas caracteristicas.\r\n",
        "- En el 2020 deja de ser la version oficial python 2.7 y solo se le dara soporte a python 3 en adelante.\r\n",
        "\r\n",
        "## Caracteristicas de Python\r\n",
        "1. Lenguaje de proposito general.\r\n",
        "2. Interpretado y no compilado.\r\n",
        "3. Tipos de datos dinamicos. (Numericos, cadena, bool, entre otros).\r\n",
        "4. Multiplataforma.\r\n",
        "5. Lenguaje Multi-paradigma. (Imperativa, POO y funcional).\r\n",
        "6. Codigo es estructurado por indentacion.\r\n",
        "\r\n",
        "```\r\n",
        "if a > 10:\r\n",
        "  print(\"Hola\")\r\n",
        "print(\"Hola dos\")\r\n",
        "\r\n",
        "```\r\n",
        "\r\n",
        "## Principios Zen de Python\r\n",
        "\r\n",
        "Son las caracteristicas que guian el diseño del lenguaje de programacion Python\r\n",
        "\r\n"
      ]
    },
    {
      "cell_type": "code",
      "metadata": {
        "colab": {
          "base_uri": "https://localhost:8080/"
        },
        "id": "UCk4jfZRuoA7",
        "outputId": "ecd3c93e-ba4a-40b1-b657-57f1a014ede3"
      },
      "source": [
        "#Primer programa en Python 3\r\n",
        "\r\n",
        "nombre = \"Jose\"\r\n",
        "edad = 18\r\n",
        "print(\"Hola\",nombre,edad)\r\n"
      ],
      "execution_count": 2,
      "outputs": [
        {
          "output_type": "stream",
          "text": [
            "Hola Jose 18\n"
          ],
          "name": "stdout"
        }
      ]
    },
    {
      "cell_type": "markdown",
      "metadata": {
        "id": "Ni_gSgQLvn2n"
      },
      "source": [
        "# La funcion print()\r\n",
        "\r\n",
        "Es una de las funciones mas empleadas en programacion y busca enviar datos a la salida estandar (Monitor)\r\n",
        "\r\n",
        "### Formas de uso\r\n",
        "1. Con comas\r\n",
        "2. Con signos +\r\n",
        "3. Con .format()\r\n",
        "4. Con el operador f\"   \"\r\n",
        "\r\n",
        "#### Con Comas\r\n",
        "Concatena los argumetos enviados a print y les agrega un espacio\r\n",
        "\r\n",
        "#### Con signos +\r\n",
        "Concatena los valores sin espacio y sin hacer conversion de tipos.\r\n",
        "\r\n",
        "#### Con la funcion format()\r\n",
        "Permite darle formato a la salida de la impresion de variables. Emplea la funcion format de el tipo de dato String.\r\n",
        "\r\n",
        "```\r\n",
        "\" cadena {} a {} forma{}tear \".format(v1,v2,vn)\r\n",
        "```\r\n",
        "\r\n",
        "Emplea como comodines para sustituir valores los signos {}.\r\n",
        "\r\n",
        "#### Con el operador f\"   \"\r\n",
        "\r\n",
        "Es una variante de la forma anterior pero enmascarando la funcion format()\r\n",
        "\r\n",
        "```\r\n",
        "print(f\" sdsad{var} sdaadada{var2} asdasdas{varn}\")\r\n",
        "```\r\n"
      ]
    },
    {
      "cell_type": "code",
      "metadata": {
        "colab": {
          "base_uri": "https://localhost:8080/"
        },
        "id": "a_TN3pv_wUMj",
        "outputId": "97468354-5306-4970-80ad-e8e6988949fe"
      },
      "source": [
        "print(\"Hola\", nombre, edad)\r\n",
        "print(\"Hola \" + nombre + \" \" + str(edad))\r\n",
        "# Nombre: Jose, con una edad de: 18 años.\r\n",
        "print(\"Nombre:\", nombre, \"con una edad de:\", edad, \"años\")\r\n",
        "print(\"Nombre: \" + nombre + \" con una edad de: \" + str(edad) + \" años\")\r\n",
        "# Con format()\r\n",
        "print(\"Nombre: {} con una edad de: {} años.\".format(nombre,edad))\r\n",
        "# Con el operador f\"\"\r\n",
        "print(f\"Nombre: {nombre} con una edad de: {edad} años.\")\r\n"
      ],
      "execution_count": 17,
      "outputs": [
        {
          "output_type": "stream",
          "text": [
            "Hola Jose 18\n",
            "Hola Jose 18\n",
            "Nombre: Jose con una edad de: 18 años\n",
            "Nombre: Jose con una edad de: 18 años\n",
            "Nombre: Jose con una edad de: 18 años.\n",
            "Nombre: Jose con una edad de: 18 años.\n"
          ],
          "name": "stdout"
        }
      ]
    },
    {
      "cell_type": "markdown",
      "metadata": {
        "id": "m3aNl3a_2IJR"
      },
      "source": [
        "# Funcion print() y los caracteres de escape\r\n",
        "\r\n",
        "\r\n",
        "```\r\n",
        "\"\r\n",
        "```\r\n",
        "\r\n",
        "- \\n salto de linea\r\n",
        "- \\t tabulador\r\n",
        "- \\\\ imprimir la diagonal \\\r\n",
        "- \\' y \\\"\r\n",
        "- \\uxxxx\r\n",
        "- \\uxxxxxxxx\r\n",
        " \r\n"
      ]
    },
    {
      "cell_type": "code",
      "metadata": {
        "colab": {
          "base_uri": "https://localhost:8080/"
        },
        "id": "SQqiQeqe2Yxp",
        "outputId": "5445a503-3cc4-4ed7-a179-31b432f9a3c1"
      },
      "source": [
        "print('\"')\r\n",
        "print(\"\\\"\")\r\n",
        "print(\"Nombre: Jose\\n\\tcon una edad de: 18 años.\")\r\n",
        "# Caracteres unicode\r\n",
        "print(\"Hola \\u2661\")\r\n"
      ],
      "execution_count": 25,
      "outputs": [
        {
          "output_type": "stream",
          "text": [
            "\"\n",
            "\"\n",
            "Nombre: Jose\n",
            "\tcon una edad de: 18 años.\n",
            "Hola ♡\n"
          ],
          "name": "stdout"
        }
      ]
    },
    {
      "cell_type": "markdown",
      "metadata": {
        "id": "UqIPhRLF8Cdg"
      },
      "source": [
        "## Print y salto de linea en el argumento\r\n",
        "\r\n",
        "print([lista de variables], end =\"\\n\")"
      ]
    },
    {
      "cell_type": "code",
      "metadata": {
        "colab": {
          "base_uri": "https://localhost:8080/"
        },
        "id": "M2Jt9ZBJ8Vwo",
        "outputId": "16197184-563b-473b-ef1e-8a5b30fcf905"
      },
      "source": [
        "print(\"Hola \", end=\"\\u13CD\")\r\n",
        "print(\"Mundo \", end=\"++++\")\r\n",
        "print(\"Fin\", end=\"\\n\")\r\n"
      ],
      "execution_count": 30,
      "outputs": [
        {
          "output_type": "stream",
          "text": [
            "Hola ᏍMundo ++++Fin\n"
          ],
          "name": "stdout"
        }
      ]
    },
    {
      "cell_type": "markdown",
      "metadata": {
        "id": "DIT-eB629fRC"
      },
      "source": [
        "# Comentarios en Python\r\n",
        "Un comentario en programacion, es un texto especial que es ignorado por el interprete o compilador (Segun sea el caso del lenguaje) y es empleado para que el programador documente sus algoritmos.\r\n",
        "\r\n",
        "Existen de 2 tipos: De linea simple y de multiple linea,\r\n",
        "\r\n",
        "En Python.\r\n",
        "- Linea simple emplea #\r\n",
        "\r\n",
        "\r\n",
        "```\r\n",
        "# Comentario de linea simple\r\n",
        "```\r\n",
        "\r\n",
        "\r\n",
        "- Linea multiple\r\n",
        "\r\n",
        "```\r\n",
        "\"\"\"\r\n",
        "Esto\r\n",
        "es un comentario de\r\n",
        "linea\r\n",
        "multiple\r\n",
        "\"\"\"\r\n",
        "```\r\n"
      ]
    },
    {
      "cell_type": "code",
      "metadata": {
        "colab": {
          "base_uri": "https://localhost:8080/"
        },
        "id": "Vy_G6SGJ-fEK",
        "outputId": "c80286d9-e4a7-4a5e-c939-35a4a17040ee"
      },
      "source": [
        "print(\"Hola\")\r\n",
        "# print(\"Hola\")\r\n",
        "# cualquier cosa\r\n",
        "print(\"Hola\")\r\n",
        "print(\"Hola\") # esta linea imprime hola\r\n",
        "print(\"Hola\")\r\n",
        "print(\"Hola\")\r\n",
        "\"\"\"\r\n",
        "Esto es\r\n",
        "un comentario de multiple linea. Ideal \r\n",
        "para cuando se desea explicar algo a fondo que requiera mayor detalle\r\n",
        "\"\"\"\r\n",
        "print(\"Hola\")\r\n",
        "print(\"Hola\")\r\n"
      ],
      "execution_count": 31,
      "outputs": [
        {
          "output_type": "stream",
          "text": [
            "Hola\n",
            "Hola\n",
            "Hola\n",
            "Hola\n",
            "Hola\n",
            "Hola\n",
            "Hola\n"
          ],
          "name": "stdout"
        }
      ]
    }
  ]
}