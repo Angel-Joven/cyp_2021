{
  "nbformat": 4,
  "nbformat_minor": 0,
  "metadata": {
    "colab": {
      "name": "CyP12nov2020.ipynb",
      "provenance": [],
      "authorship_tag": "ABX9TyMuBdu+wPtANr+7Mg6PXKJm",
      "include_colab_link": true
    },
    "kernelspec": {
      "name": "python3",
      "display_name": "Python 3"
    }
  },
  "cells": [
    {
      "cell_type": "markdown",
      "metadata": {
        "id": "view-in-github",
        "colab_type": "text"
      },
      "source": [
        "<a href=\"https://colab.research.google.com/github/Angel-Joven/cyp_2021/blob/main/CyP12nov2020.ipynb\" target=\"_parent\"><img src=\"https://colab.research.google.com/assets/colab-badge.svg\" alt=\"Open In Colab\"/></a>"
      ]
    },
    {
      "cell_type": "code",
      "metadata": {
        "id": "9_PKEG79cCf1",
        "outputId": "a47869b7-20ac-4853-ed21-062085e71a1d",
        "colab": {
          "base_uri": "https://localhost:8080/"
        }
      },
      "source": [
        "#Ejemplo 1\n",
        "\n",
        "numero= int (input(\"Dame un numero\"))\n",
        "if numero >0:\n",
        "  print(\"El numero es positivo\")\n",
        "\n",
        "print(\"Fin del programa\") "
      ],
      "execution_count": 3,
      "outputs": [
        {
          "output_type": "stream",
          "text": [
            "Dame un numero3\n",
            "El numero es positivo\n",
            "Fin del programa\n"
          ],
          "name": "stdout"
        }
      ]
    },
    {
      "cell_type": "code",
      "metadata": {
        "id": "TmgcXa9OfVXM",
        "outputId": "f773c80c-7568-4d05-fb1c-c13a95485b78",
        "colab": {
          "base_uri": "https://localhost:8080/"
        }
      },
      "source": [
        "#Ejemplo 2\n",
        "\n",
        "numero= int (input(\"Digite un numero\"))\n",
        "if numero >0:\n",
        "  print(\"El numero es positivo\")\n",
        "else: \n",
        "  print(\"El numero es negativo\")\n"
      ],
      "execution_count": 5,
      "outputs": [
        {
          "output_type": "stream",
          "text": [
            "Digite un numero3\n",
            "El numero es positivo\n"
          ],
          "name": "stdout"
        }
      ]
    },
    {
      "cell_type": "code",
      "metadata": {
        "id": "3cK1L89Dg2uD",
        "outputId": "78ffef04-6745-48b1-ce51-b20918337095",
        "colab": {
          "base_uri": "https://localhost:8080/"
        }
      },
      "source": [
        "#Ejemplo 3\n",
        "\n",
        "numero= int (input(\"Digite un numero\"))\n",
        "if numero >0:\n",
        "  print(\"El numero es positivo\")\n",
        "elif numero==0:\n",
        "  print(\"El numero es 0\")\n",
        "\n",
        "else: #Si no imprime negativo\n",
        "  print(\"El numero es negativo\")\n",
        "\n",
        "print(\"Fin del programa\")"
      ],
      "execution_count": 15,
      "outputs": [
        {
          "output_type": "stream",
          "text": [
            "Digite un numero1\n",
            "El numero es positivo\n",
            "Fin del programa\n"
          ],
          "name": "stdout"
        }
      ]
    },
    {
      "cell_type": "code",
      "metadata": {
        "id": "eHIEoBltfNhJ"
      },
      "source": [
        ""
      ],
      "execution_count": null,
      "outputs": []
    }
  ]
}