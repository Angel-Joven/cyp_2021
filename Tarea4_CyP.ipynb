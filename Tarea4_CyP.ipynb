{
  "nbformat": 4,
  "nbformat_minor": 0,
  "metadata": {
    "colab": {
      "name": "Tarea4_CyP.ipynb",
      "provenance": [],
      "authorship_tag": "ABX9TyMkzx+VCijWhhRDrwcHq+++",
      "include_colab_link": true
    },
    "kernelspec": {
      "display_name": "Python 3",
      "name": "python3"
    }
  },
  "cells": [
    {
      "cell_type": "markdown",
      "metadata": {
        "id": "view-in-github",
        "colab_type": "text"
      },
      "source": [
        "<a href=\"https://colab.research.google.com/github/Angel-Joven/cyp_2021/blob/main/Tarea4_CyP.ipynb\" target=\"_parent\"><img src=\"https://colab.research.google.com/assets/colab-badge.svg\" alt=\"Open In Colab\"/></a>"
      ]
    },
    {
      "cell_type": "code",
      "metadata": {
        "colab": {
          "base_uri": "https://localhost:8080/"
        },
        "id": "g5jj--qd66rw",
        "outputId": "743dfe21-d8b7-4252-9e31-84563fa38330"
      },
      "source": [
        "#Ejemplo 2.4\n",
        "\n",
        "SUELDO = 0\n",
        "NUEVO_SUELDO = 0\n",
        "\n",
        "NOMBRE = input(\"Ingrese el nombre del trabajador: \")\n",
        "SUELDO = float(input(\"Ingrese el sueldo del trabajador:$ \"))\n",
        "\n",
        "if SUELDO < 1000:\n",
        "  NUEVO_SUELDO = SUELDO * 1.15\n",
        "  print(\"Su trabajador se llama:\", NOMBRE, \"El sueldo de su trabajador es:$\", SUELDO)\n",
        "  print(\"Como su sueldo es inferior a 1000, tendra un aumento del 15%, asi que su nuevo sueldo es:$\", NUEVO_SUELDO)\n",
        "\n",
        "else:\n",
        "  NUEVO_SUELDO = SUELDO * 1.12\n",
        "  print(\"Su trabajador se llama:\", NOMBRE, \", El sueldo de su trabajador es:$\", SUELDO)\n",
        "  print(\"Como su sueldo es superior a $1000, tendra un aumento del 12%, asi que su nuevo sueldo es:$\", NUEVO_SUELDO)\n"
      ],
      "execution_count": 20,
      "outputs": [
        {
          "output_type": "stream",
          "text": [
            "Ingrese el nombre del trabajador: Diego\n",
            "Ingrese el sueldo del trabajador:$ 1950.00\n",
            "Su trabajador se llama: Diego , El sueldo de su trabajador es:$ 1950.0\n",
            "Como su sueldo es superior a $1000, tendra un aumento del 12%, asi que su nuevo sueldo es:$ 2184.0\n"
          ],
          "name": "stdout"
        }
      ]
    },
    {
      "cell_type": "code",
      "metadata": {
        "colab": {
          "base_uri": "https://localhost:8080/"
        },
        "id": "wBTsO__7AIUx",
        "outputId": "d5bc132d-4c00-4811-be6d-b89edd13a7a5"
      },
      "source": [
        "#Ejemplo 2.8\n",
        "\n",
        "CATEGORIA = 0\n",
        "SUELDO = 0\n",
        "NUEVO_SUELDO = 0\n",
        "\n",
        "CATEGORIA = int(input(\"Ingrese la categoria del trabajador: \"))\n",
        "SUELDO = float(input(\"Ingrese el sueldo del trabajador:$ \"))\n",
        "\n",
        "if CATEGORIA == 1:\n",
        "  NUEVO_SUELDO = SUELDO * 1.15\n",
        "  print(\"La categoria de su trabajador es:\", CATEGORIA, \", El sueldo de su trabajador es:$\", SUELDO)\n",
        "  print(\"Como su trabajador pertenece a la\", CATEGORIA, \"su aumento es de 15%, asi que su nuevo sueldo es:$\", NUEVO_SUELDO)\n",
        "\n",
        "elif CATEGORIA == 2:\n",
        "  NUEVO_SUELDO = SUELDO * 1.10\n",
        "  print(\"La categoria de su trabajador es:\", CATEGORIA, \", El sueldo de su trabajador es:$\", SUELDO)\n",
        "  print(\"Como su trabajador pertenece a la\", CATEGORIA, \"su aumento es de 10%, asi que su nuevo sueldo es:$\", NUEVO_SUELDO)\n",
        "\n",
        "elif CATEGORIA == 3:\n",
        "  NUEVO_SUELDO = SUELDO * 1.08\n",
        "  print(\"La categoria de su trabajador es:\", CATEGORIA, \", El sueldo de su trabajador es:$\", SUELDO)\n",
        "  print(\"Como su trabajador pertenece a la\", CATEGORIA, \"su aumento es de 8%, asi que su nuevo sueldo es:$\", NUEVO_SUELDO)\n",
        "\n",
        "elif CATEGORIA == 4:\n",
        "  NUEVO_SUELDO = SUELDO * 1.07\n",
        "  print(\"La categoria de su trabajador es:\", CATEGORIA, \", El sueldo de su trabajador es:$\", SUELDO)\n",
        "  print(\"Como su trabajador pertenece a la categoria\", CATEGORIA, \"su aumento es de 7%, asi que su nuevo sueldo es:$\", NUEVO_SUELDO)\n"
      ],
      "execution_count": 24,
      "outputs": [
        {
          "output_type": "stream",
          "text": [
            "Ingrese la categoria del trabajador: 4\n",
            "Ingrese el sueldo del trabajador:$ 6200\n",
            "La categoria de su trabajador es: 4 , El sueldo de su trabajador es:$ 6200.0\n",
            "Como su trabajador pertenece a la categoria 4 su aumento es de 7%, asi que su nuevo sueldo es:$ 6634.0\n"
          ],
          "name": "stdout"
        }
      ]
    }
  ]
}