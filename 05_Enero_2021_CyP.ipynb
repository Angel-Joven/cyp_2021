{
  "nbformat": 4,
  "nbformat_minor": 0,
  "metadata": {
    "colab": {
      "name": "05_Enero_2021_CyP.ipynb",
      "provenance": [],
      "collapsed_sections": [],
      "authorship_tag": "ABX9TyPSbgEKkM/n9/MtlvYRBH7O",
      "include_colab_link": true
    },
    "kernelspec": {
      "name": "python3",
      "display_name": "Python 3"
    }
  },
  "cells": [
    {
      "cell_type": "markdown",
      "metadata": {
        "id": "view-in-github",
        "colab_type": "text"
      },
      "source": [
        "<a href=\"https://colab.research.google.com/github/Angel-Joven/cyp_2021/blob/main/05_Enero_2021_CyP.ipynb\" target=\"_parent\"><img src=\"https://colab.research.google.com/assets/colab-badge.svg\" alt=\"Open In Colab\"/></a>"
      ]
    },
    {
      "cell_type": "code",
      "metadata": {
        "colab": {
          "base_uri": "https://localhost:8080/"
        },
        "id": "C6BTQxKUjAiR",
        "outputId": "7a05cebb-b54c-43ed-89ce-33da81ccf249"
      },
      "source": [
        "sueldos = [0.0 for x in range(7)] #Declara una lista\r\n",
        "print(sueldos)\r\n",
        "\r\n",
        "sueldos[0] = 12.3\r\n",
        "sueldos[1] = 32.3\r\n",
        "sueldos[2] = 43.3\r\n",
        "sueldos[3] = 11.3\r\n",
        "sueldos[4] = 77.3\r\n",
        "sueldos[5] = 88.3\r\n",
        "sueldos[6] = 99.3\r\n",
        "print(sueldos)\r\n",
        "\r\n",
        "#Como le hacemos para asignarle valor de el 1.0 al 7.0\r\n",
        "#con una estructura for\r\n",
        "\r\n",
        "#Solucion 1\r\n",
        "for j in range(7):\r\n",
        "  sueldos[j]=float(input(\"Introduce un sueldo:\")) \r\n",
        "print(sueldos)\r\n",
        "\r\n",
        "#Solucion 2 Automatico\r\n",
        "sueldos = [float(x) for x in range(7)]\r\n",
        "for i in range(0, 7):\r\n",
        "    sueldos[i] = float(i)+1.0\r\n",
        "\r\n",
        "print(sueldos)\r\n",
        "\r\n",
        "#Automatizar el recorrido de los elementos del arreglo\r\n",
        "\r\n",
        "for i in range(7):\r\n",
        "  print(f\"El trabajador {int(i + 1)} gana ${sueldos[i]}\")\r\n",
        "\r\n"
      ],
      "execution_count": null,
      "outputs": [
        {
          "output_type": "stream",
          "text": [
            "[0.0, 0.0, 0.0, 0.0, 0.0, 0.0, 0.0]\n",
            "[12.3, 32.3, 43.3, 11.3, 77.3, 88.3, 99.3]\n",
            "Introduce un sueldo:1\n",
            "Introduce un sueldo:2\n",
            "Introduce un sueldo:3\n",
            "Introduce un sueldo:4\n",
            "Introduce un sueldo:5\n",
            "Introduce un sueldo:6\n",
            "Introduce un sueldo:7\n",
            "[1.0, 2.0, 3.0, 4.0, 5.0, 6.0, 7.0]\n",
            "[1.0, 2.0, 3.0, 4.0, 5.0, 6.0, 7.0]\n",
            "El trabajador 1 gana $1.0\n",
            "El trabajador 2 gana $2.0\n",
            "El trabajador 3 gana $3.0\n",
            "El trabajador 4 gana $4.0\n",
            "El trabajador 5 gana $5.0\n",
            "El trabajador 6 gana $6.0\n",
            "El trabajador 7 gana $7.0\n"
          ],
          "name": "stdout"
        }
      ]
    },
    {
      "cell_type": "code",
      "metadata": {
        "colab": {
          "base_uri": "https://localhost:8080/"
        },
        "id": "N_eTXc9uopUx",
        "outputId": "0bcde116-5848-4c2d-aff7-90bf49e53ecb"
      },
      "source": [
        "#Problema 4.1\r\n",
        "\r\n",
        "MAXIMO = 7\r\n",
        "sueldos = [0.0 for x in range(MAXIMO)]\r\n",
        "suma = 0.0\r\n",
        "promedio = 0.0\r\n",
        "\r\n",
        "for i in range(MAXIMO):\r\n",
        "  sueldos[i] = float(input(\"Ingrese el sueldo: \"))\r\n",
        "\r\n",
        "for i in range(MAXIMO):\r\n",
        "  print(f\"Trabajador {i+1}, gana: ${sueldos[i]}\")\r\n",
        "\r\n",
        "for i in range(MAXIMO):\r\n",
        "  suma = suma + sueldos[i]\r\n",
        "\r\n",
        "promedio = suma / MAXIMO \r\n",
        "print(f\"El promedio de sueldo es: ${promedio}\")\r\n",
        "\r\n",
        "for i in range(7):\r\n",
        "  if sueldos[i] > promedio:\r\n",
        "    print(f\"El trabajador {i+1} tiene un sueldo mayor al promedio\")\r\n"
      ],
      "execution_count": null,
      "outputs": [
        {
          "output_type": "stream",
          "text": [
            "Ingrese el sueldo: 4\n",
            "Ingrese el sueldo: 5\n",
            "Ingrese el sueldo: 4\n",
            "Ingrese el sueldo: 5\n",
            "Ingrese el sueldo: 4\n",
            "Ingrese el sueldo: 5\n",
            "Ingrese el sueldo: 4\n",
            "Trabajador 1, gana: $4.0\n",
            "Trabajador 2, gana: $5.0\n",
            "Trabajador 3, gana: $4.0\n",
            "Trabajador 4, gana: $5.0\n",
            "Trabajador 5, gana: $4.0\n",
            "Trabajador 6, gana: $5.0\n",
            "Trabajador 7, gana: $4.0\n",
            "El promedio de sueldo es: $4.428571428571429\n",
            "El trabajador 2 tiene un sueldo mayor al promedio\n",
            "El trabajador 4 tiene un sueldo mayor al promedio\n",
            "El trabajador 6 tiene un sueldo mayor al promedio\n"
          ],
          "name": "stdout"
        }
      ]
    },
    {
      "cell_type": "code",
      "metadata": {
        "colab": {
          "base_uri": "https://localhost:8080/"
        },
        "id": "1aE7SOKJsqGY",
        "outputId": "0158f22e-b3f0-492d-bc7d-e22f74e1ff7d"
      },
      "source": [
        "#Hacer un programa que solicite 5 valores enteros positivos\r\n",
        "#Y una vez que se capturen por teclado, el programa determine\r\n",
        "#Lo siguiente: 1. ¿Cual es el mayor?\r\n",
        "#2. ¿Cual es el menor?\r\n",
        "#3. ¿Cual es el promedio?\r\n",
        "\r\n",
        "MAXIMO = 5\r\n",
        "NUM =  [0.0 for x in range(MAXIMO)]\r\n",
        "SUMA = 0.0\r\n",
        "PROMEDIO = 0.0\r\n",
        "MAYOR = 0\r\n",
        "MENOR = 100000000\r\n",
        "\r\n",
        "for i in range(MAXIMO):\r\n",
        "  NUM[i] = int(input(\"Ingrese un numero entero positivo: \"))\r\n",
        "  if NUM[i] > MAYOR:\r\n",
        "    MAYOR = NUM[i]\r\n",
        "  elif NUM[i] < MENOR:\r\n",
        "    MENOR = NUM[i]\r\n",
        "\r\n",
        "for i in range(MAXIMO):\r\n",
        "  SUMA = SUMA + NUM[i]\r\n",
        "\r\n",
        "PROMEDIO = SUMA / MAXIMO\r\n",
        "\r\n",
        "print(f\"El numero mayor es: {MAYOR}\")\r\n",
        "print(f\"El numero menor es: {MENOR}\")\r\n",
        "print(f\"El promedio es: {PROMEDIO}\")\r\n"
      ],
      "execution_count": null,
      "outputs": [
        {
          "output_type": "stream",
          "text": [
            "Ingrese un numero entero positivo: 2\n",
            "Ingrese un numero entero positivo: 3\n",
            "Ingrese un numero entero positivo: 4\n",
            "Ingrese un numero entero positivo: 5\n",
            "Ingrese un numero entero positivo: 1\n",
            "El numero mayor es: 5\n",
            "El numero menor es: 1\n",
            "El promedio es: 3.0\n"
          ],
          "name": "stdout"
        }
      ]
    },
    {
      "cell_type": "code",
      "metadata": {
        "colab": {
          "base_uri": "https://localhost:8080/"
        },
        "id": "x3dPd-lKvto1",
        "outputId": "ecd2732c-b863-48db-9bfd-60f359d19030"
      },
      "source": [
        "#Problema 4.1\r\n",
        "N = int(input(\"Ingrese los numeros de elementos del arreglo: \"))\r\n",
        "VEC = []\r\n",
        "if 1 <= N and N <=500:\r\n",
        "  VEC = [0 for x in range(N)]\r\n",
        "  print(VEC)\r\n",
        "  for I in range(N):\r\n",
        "    VEC[I] = int(input(\"Ingrese el valor \" + str(I+1) + \":\"))\r\n",
        "  print(\"Lista de numeros sin repeticiones: \")\r\n",
        "  I = 0\r\n",
        "  while I < N:\r\n",
        "    print(VEC[I])\r\n",
        "    REPET = VEC[I]\r\n",
        "    while I < N and REPET == VEC[I]:\r\n",
        "      #print(\"Incrementa I\", I)\r\n",
        "      I = I + 1\r\n",
        "    I = I + 1\r\n",
        "else:\r\n",
        "  print(\"El numero de elementos del arreglo es incorrecto\")\r\n"
      ],
      "execution_count": 65,
      "outputs": [
        {
          "output_type": "stream",
          "text": [
            "Ingrese los numeros de elementos del arreglo: 10\n",
            "[0, 0, 0, 0, 0, 0, 0, 0, 0, 0]\n",
            "Ingrese el valor 1:2\n",
            "Ingrese el valor 2:3\n",
            "Ingrese el valor 3:3\n",
            "Ingrese el valor 4:3\n",
            "Ingrese el valor 5:10\n",
            "Ingrese el valor 6:20\n",
            "Ingrese el valor 7:20\n",
            "Ingrese el valor 8:40\n",
            "Ingrese el valor 9:43\n",
            "Ingrese el valor 10:51\n",
            "Lista de numeros sin repeticiones: \n",
            "2\n",
            "3\n",
            "20\n",
            "43\n"
          ],
          "name": "stdout"
        }
      ]
    }
  ]
}