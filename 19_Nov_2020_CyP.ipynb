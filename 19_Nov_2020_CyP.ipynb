{
  "nbformat": 4,
  "nbformat_minor": 0,
  "metadata": {
    "colab": {
      "name": "19_Nov_2020_CyP.ipynb",
      "provenance": [],
      "authorship_tag": "ABX9TyPIBMduukiinAJn2wZzmxMn",
      "include_colab_link": true
    },
    "kernelspec": {
      "name": "python3",
      "display_name": "Python 3"
    }
  },
  "cells": [
    {
      "cell_type": "markdown",
      "metadata": {
        "id": "view-in-github",
        "colab_type": "text"
      },
      "source": [
        "<a href=\"https://colab.research.google.com/github/Angel-Joven/cyp_2021/blob/main/19_Nov_2020_CyP.ipynb\" target=\"_parent\"><img src=\"https://colab.research.google.com/assets/colab-badge.svg\" alt=\"Open In Colab\"/></a>"
      ]
    },
    {
      "cell_type": "code",
      "metadata": {
        "colab": {
          "base_uri": "https://localhost:8080/"
        },
        "id": "pA3tB0HugLpV",
        "outputId": "7897240c-6a51-4271-8454-007f61ea3ea1"
      },
      "source": [
        "# Concepto de asignacion, derecha a izquierda:\n",
        "I = 0\n",
        "I = I + 1\n",
        "I = I + 1\n",
        "print(f\"I = { I } \")\n",
        "J = 5 ** 2 / 3\n",
        "print(f\"J = { J }\")\n"
      ],
      "execution_count": 4,
      "outputs": [
        {
          "output_type": "stream",
          "text": [
            "I = 2 \n",
            "J = 8.333333333333334\n"
          ],
          "name": "stdout"
        }
      ]
    },
    {
      "cell_type": "code",
      "metadata": {
        "colab": {
          "base_uri": "https://localhost:8080/"
        },
        "id": "g3lFrNmKmv1h",
        "outputId": "e2c160af-3e2a-45f1-bbf9-a4264201c404"
      },
      "source": [
        "# Declaracion de variables (Reservando memoria)\n",
        "A = 0\n",
        "B = 0\n",
        "C = 0\n",
        "D = 0\n",
        "\n",
        "A = int(input(\"Dame un valor entero:\"))\n",
        "B = int(input(\"Dame un valor entero:\"))\n",
        "C = int(input(\"Dame un valor entero:\"))\n",
        "D = int(input(\"Dame un valor entero:\"))\n",
        "\n",
        "print(D)\n",
        "print(C)\n",
        "print(B)\n",
        "print(A)\n"
      ],
      "execution_count": 5,
      "outputs": [
        {
          "output_type": "stream",
          "text": [
            "Dame un valor entero:10\n",
            "Dame un valor entero:20\n",
            "Dame un valor entero:30\n",
            "Dame un valor entero:40\n",
            "40\n",
            "30\n",
            "20\n",
            "10\n"
          ],
          "name": "stdout"
        }
      ]
    },
    {
      "cell_type": "code",
      "metadata": {
        "colab": {
          "base_uri": "https://localhost:8080/"
        },
        "id": "p5dTMhH2pNwb",
        "outputId": "9ca98382-808c-4f96-c2e1-68e42f907687"
      },
      "source": [
        "# Ejemplo 1.7\n",
        "A = 0\n",
        "B = 0\n",
        "RES = 0\n",
        "\n",
        "A = int(input(\"Dame un entero:\"))\n",
        "B = int(input(\"Dame otro entero:\"))\n",
        "RES = (A + B)**2 / 3\n",
        "print(RES)\n"
      ],
      "execution_count": 8,
      "outputs": [
        {
          "output_type": "stream",
          "text": [
            "Dame un entero:14\n",
            "Dame otro entero:-5\n",
            "27.0\n"
          ],
          "name": "stdout"
        }
      ]
    },
    {
      "cell_type": "code",
      "metadata": {
        "colab": {
          "base_uri": "https://localhost:8080/"
        },
        "id": "eplzrDknt00u",
        "outputId": "becd04c2-edb2-4251-860f-080e7bddf940"
      },
      "source": [
        "# Ejemplo 1.8\n",
        "MAT = 0\n",
        "CAL1= 0\n",
        "CAL2= 0\n",
        "CAL3= 0\n",
        "CAL4= 0\n",
        "CAL5= 0\n",
        "PRO = 0.0\n",
        "\n",
        "nombre = input(\"Dame tu nombre: \")\n",
        "MAT= input(\"Dame el numero de matricula: \") \n",
        "CAL1= float(input(\"Dame la calificacion 1: \"))\n",
        "CAL2= float(input(\"Dame la calificacion 2: \"))\n",
        "CAL3= float(input(\"Dame la calificacion 3: \"))\n",
        "CAL4= float(input(\"Dame la calificacion 4: \"))\n",
        "CAL5= float(input(\"Dame la calificacion 5: \"))\n",
        "\n",
        "PRO = (CAL1 + CAL2 + CAL3 + CAL4 + CAL5)/ 5\n",
        "print(nombre)\n",
        "print(MAT)\n",
        "print(PRO)\n"
      ],
      "execution_count": 16,
      "outputs": [
        {
          "output_type": "stream",
          "text": [
            "Dame tu nombre: Angel\n",
            "Dame el numero de matricula: 18240\n",
            "Dame la calificacion 1: 7.3\n",
            "Dame la calificacion 2: 6.8\n",
            "Dame la calificacion 3: 9.5\n",
            "Dame la calificacion 4: 8\n",
            "Dame la calificacion 5: 8.5\n",
            "Angel\n",
            "18240\n",
            "8.02\n"
          ],
          "name": "stdout"
        }
      ]
    },
    {
      "cell_type": "code",
      "metadata": {
        "colab": {
          "base_uri": "https://localhost:8080/"
        },
        "id": "9eHMKzeqxTGp",
        "outputId": "847bec68-6c8b-499a-ecd5-ba65bdee7a8b"
      },
      "source": [
        "# Ejemplo 1.9\n",
        "\n",
        "NUM = 0\n",
        "\n",
        "NUM= int(input(\"Dame un numero: \"))\n",
        "\n",
        "print(\"El cuadrado es: \")\n",
        "print(NUM * NUM)\n",
        "print(\"El cubo es: \")\n",
        "print(NUM ** 3)"
      ],
      "execution_count": 27,
      "outputs": [
        {
          "output_type": "stream",
          "text": [
            "Dame un numero: 30\n",
            "El cuadrado es: \n",
            "900\n",
            "El cubo es: \n",
            "27000\n"
          ],
          "name": "stdout"
        }
      ]
    },
    {
      "cell_type": "code",
      "metadata": {
        "colab": {
          "base_uri": "https://localhost:8080/"
        },
        "id": "KDhq7eVmzkoO",
        "outputId": "8b417715-0318-4d5a-96cd-2b4476522a18"
      },
      "source": [
        "# Ejemplo 1.10\n",
        "\n",
        "BASE = 0.0\n",
        "ALTU = 0.0\n",
        "PER = 0.0\n",
        "SUP = 0.0\n",
        "\n",
        "BASE = float(input(\"Dame la medida de la base: \"))\n",
        "ALTU = float(input(\"Dame la medida de la altura: \"))\n",
        "\n",
        "PER = 2*(BASE + ALTU)\n",
        "SUP = (BASE * ALTU)\n",
        "\n",
        "print(\"El perimetro es: \")\n",
        "print(PER)\n",
        "print(\"La superficie es: \")\n",
        "print(SUP)\n"
      ],
      "execution_count": 33,
      "outputs": [
        {
          "output_type": "stream",
          "text": [
            "Dame la medida de la base: 39.40\n",
            "Dame la medida de la altura: 68.50\n",
            "El perimetro es: \n",
            "215.8\n",
            "La superficie es: \n",
            "2698.9\n"
          ],
          "name": "stdout"
        }
      ]
    }
  ]
}